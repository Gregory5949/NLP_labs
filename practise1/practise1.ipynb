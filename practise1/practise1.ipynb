{
 "cells": [
  {
   "cell_type": "code",
   "execution_count": 1,
   "metadata": {
    "collapsed": true,
    "pycharm": {
     "name": "#%%\n"
    }
   },
   "outputs": [],
   "source": [
    "import nltk\n",
    "import pandas as pd\n",
    "from nltk.tokenize import RegexpTokenizer\n",
    "import numpy as np"
   ]
  },
  {
   "cell_type": "code",
   "execution_count": 2,
   "outputs": [],
   "source": [
    "tokenizer = RegexpTokenizer(r'\\w+')\n",
    "text = open(\"text.txt\", \"r\").read()\n",
    "words = nltk.word_tokenize(text)\n",
    "sentences = nltk.sent_tokenize(text)\n",
    "words = [word.lower() for word in words if word.isalpha()]\n",
    "\n"
   ],
   "metadata": {
    "collapsed": false,
    "pycharm": {
     "name": "#%%\n"
    }
   }
  },
  {
   "cell_type": "code",
   "execution_count": 3,
   "outputs": [
    {
     "name": "stdout",
     "output_type": "stream",
     "text": [
      "ЗАВЕЩАНИЕ РОЗЫ\n",
      "\n",
      "\n",
      "     Кто-то сказал обо мне, о розе затерянной:\n",
      "     \"Ты вчера родилась, а умрешь ты наутро.\n"
     ]
    }
   ],
   "source": [
    "for s in sentences:\n",
    "    if 'ЗАВЕЩАНИЕ РОЗЫ' in s:\n",
    "        print(s)"
   ],
   "metadata": {
    "collapsed": false,
    "pycharm": {
     "name": "#%%\n"
    }
   }
  },
  {
   "cell_type": "markdown",
   "source": [
    "Общее кол-во слов"
   ],
   "metadata": {
    "collapsed": false,
    "pycharm": {
     "name": "#%% md\n"
    }
   }
  },
  {
   "cell_type": "code",
   "execution_count": 4,
   "outputs": [
    {
     "data": {
      "text/plain": "6347"
     },
     "execution_count": 4,
     "metadata": {},
     "output_type": "execute_result"
    }
   ],
   "source": [
    "len(words)"
   ],
   "metadata": {
    "collapsed": false,
    "pycharm": {
     "name": "#%%\n"
    }
   }
  },
  {
   "cell_type": "markdown",
   "source": [
    "Кол-во уникальных слов"
   ],
   "metadata": {
    "collapsed": false,
    "pycharm": {
     "name": "#%% md\n"
    }
   }
  },
  {
   "cell_type": "code",
   "execution_count": 5,
   "outputs": [
    {
     "data": {
      "text/plain": "2287"
     },
     "execution_count": 5,
     "metadata": {},
     "output_type": "execute_result"
    }
   ],
   "source": [
    "len(set(words))"
   ],
   "metadata": {
    "collapsed": false,
    "pycharm": {
     "name": "#%%\n"
    }
   }
  },
  {
   "cell_type": "markdown",
   "source": [
    "Кол-во предложений в тексте"
   ],
   "metadata": {
    "collapsed": false,
    "pycharm": {
     "name": "#%% md\n"
    }
   }
  },
  {
   "cell_type": "code",
   "execution_count": 6,
   "outputs": [
    {
     "data": {
      "text/plain": "1121"
     },
     "execution_count": 6,
     "metadata": {},
     "output_type": "execute_result"
    }
   ],
   "source": [
    "len(sentences)"
   ],
   "metadata": {
    "collapsed": false,
    "pycharm": {
     "name": "#%%\n"
    }
   }
  },
  {
   "cell_type": "code",
   "execution_count": 7,
   "outputs": [],
   "source": [
    "functors_pos = {'CONJ', 'ADV-PRO', 'CONJ', 'PART'}  # function words\n",
    "function_words = set([word for word, pos in nltk.pos_tag(words, lang='rus')\n",
    "                      if pos in functors_pos])"
   ],
   "metadata": {
    "collapsed": false,
    "pycharm": {
     "name": "#%%\n"
    }
   }
  },
  {
   "cell_type": "code",
   "execution_count": 8,
   "outputs": [
    {
     "name": "stdout",
     "output_type": "stream",
     "text": [
      "{'давай', 'если', 'когда', 'б', 'не', 'только', 'чтобы', 'ли', 'потому', 'и', 'однако', 'всего', 'иль', 'бы', 'зато', 'потом', 'теперь', 'отсюда', 'так', 'угодно', 'разве', 'почему', 'там', 'нет', 'хотя', 'будто', 'сюда', 'же', 'да', 'словно', 'ж', 'даже', 'чего', 'ни', 'уж', 'никогда', 'отчего', 'но', 'зачем', 'тоже', 'всегда', 'это', 'ль', 'ну', 'тогда', 'или', 'а', 'конечно', 'что', 'вон', 'чтоб', 'как', 'туда', 'много', 'чем', 'то', 'куда', 'пускай', 'вот', 'сейчас', 'откуда', 'лишь', 'где', 'хоть', 'ведь', 'здесь', 'пусть'}\n"
     ]
    }
   ],
   "source": [
    "print(function_words)"
   ],
   "metadata": {
    "collapsed": false,
    "pycharm": {
     "name": "#%%\n"
    }
   }
  },
  {
   "cell_type": "markdown",
   "source": [
    "Самое длинное и самое короткое слово (за исключением\n",
    "служебных частей речи)"
   ],
   "metadata": {
    "collapsed": false,
    "pycharm": {
     "name": "#%% md\n"
    }
   }
  },
  {
   "cell_type": "code",
   "execution_count": 9,
   "outputs": [],
   "source": [
    "min_len = 1000\n",
    "max_len = -1\n",
    "\n",
    "min_w_idx = 0\n",
    "max_w_idx = 0\n",
    "for idx, w in enumerate(words):\n",
    "    if w not in function_words:\n",
    "        if len(w) > max_len:\n",
    "            max_len = len(w)\n",
    "            max_w_idx = idx\n",
    "        elif len(w) < min_len:\n",
    "            min_len = len(w)\n",
    "            min_w_idx = idx\n"
   ],
   "metadata": {
    "collapsed": false,
    "pycharm": {
     "name": "#%%\n"
    }
   }
  },
  {
   "cell_type": "code",
   "execution_count": 10,
   "outputs": [
    {
     "name": "stdout",
     "output_type": "stream",
     "text": [
      "Самое длинное слово: непредусмотрительность – Длина: 22 букв.\n",
      "Самое короткое слово: i – Длина: 1 букв.\n"
     ]
    }
   ],
   "source": [
    "print(f\"Самое длинное слово: {words[max_w_idx]} – Длина: {max_len} букв.\")\n",
    "print(f\"Самое короткое слово: {words[min_w_idx]} – Длина: {min_len} букв.\")"
   ],
   "metadata": {
    "collapsed": false,
    "pycharm": {
     "name": "#%%\n"
    }
   }
  },
  {
   "cell_type": "markdown",
   "source": [
    "Средняя и медианная длины слов (в знаках) и предложений (в\n",
    "словах)."
   ],
   "metadata": {
    "collapsed": false,
    "pycharm": {
     "name": "#%% md\n"
    }
   }
  },
  {
   "cell_type": "code",
   "execution_count": 11,
   "outputs": [],
   "source": [
    "sentences_ = []\n",
    "for s in sentences:\n",
    "    words_ = [word.lower() for word in nltk.word_tokenize(s) if word.isalpha()]\n",
    "    sentences_.append(words_)\n"
   ],
   "metadata": {
    "collapsed": false,
    "pycharm": {
     "name": "#%%\n"
    }
   }
  },
  {
   "cell_type": "code",
   "execution_count": 12,
   "outputs": [],
   "source": [
    "word_lengths = list(map(len, words))\n",
    "median_word_lengths = np.median(word_lengths)\n",
    "mean_word_lengths = np.mean(word_lengths)\n",
    "sent_lengths = list(map(len, sentences_))\n",
    "median_sent_lengths = np.median(sent_lengths)\n",
    "mean_sent_lengths = np.mean(sent_lengths)"
   ],
   "metadata": {
    "collapsed": false,
    "pycharm": {
     "name": "#%%\n"
    }
   }
  },
  {
   "cell_type": "code",
   "execution_count": 63,
   "outputs": [
    {
     "name": "stdout",
     "output_type": "stream",
     "text": [
      "Средняя длина слова: 4.556168268473295\n",
      "Медианная длина слова: 4.0\n",
      "Средняя длина предложения: 5.661909009812668\n",
      "Медианная длина предложения: 4.0\n"
     ]
    }
   ],
   "source": [
    "print(f\"Средняя длина слова: {mean_word_lengths}\")\n",
    "print(f\"Медианная длина слова: {median_word_lengths}\")\n",
    "print(f\"Средняя длина предложения: {mean_sent_lengths}\")\n",
    "print(f\"Медианная длина предложения: {median_sent_lengths}\")"
   ],
   "metadata": {
    "collapsed": false,
    "pycharm": {
     "name": "#%%\n"
    }
   }
  },
  {
   "cell_type": "markdown",
   "source": [
    "Список слов с введённой длиной (если нет такой,\n",
    "вывести слова с ближайшей длиной)."
   ],
   "metadata": {
    "collapsed": false,
    "pycharm": {
     "name": "#%% md\n"
    }
   }
  },
  {
   "cell_type": "code",
   "execution_count": 15,
   "outputs": [],
   "source": [
    "\n",
    "all_available_lengths = list(set(word_lengths))\n",
    "\n",
    "\n",
    "def find_words_of_length_n(n):\n",
    "    found_words = []\n",
    "    if n < 1:\n",
    "        raise Exception(\"Choose correct word size\")\n",
    "\n",
    "    if n not in all_available_lengths:\n",
    "\n",
    "        available_n = min(all_available_lengths, key=lambda x: abs(x - n))\n",
    "        print(f'There are no words of size {n} in text.\\n Finding words of size {available_n} instead.')\n",
    "        for idx, len_ in enumerate(word_lengths):\n",
    "            if word_lengths[idx] == available_n:\n",
    "                found_words.append(words[idx])\n",
    "    else:\n",
    "\n",
    "        for idx, len_ in enumerate(word_lengths):\n",
    "            if word_lengths[idx] == n:\n",
    "                found_words.append(words[idx])\n",
    "\n",
    "    return found_words\n",
    "\n"
   ],
   "metadata": {
    "collapsed": false,
    "pycharm": {
     "name": "#%%\n"
    }
   }
  },
  {
   "cell_type": "code",
   "execution_count": 16,
   "outputs": [
    {
     "name": "stdout",
     "output_type": "stream",
     "text": [
      "There are no words of size 16 in text.\n",
      " Finding words of size 15 instead.\n"
     ]
    }
   ],
   "source": [
    "found_words = find_words_of_length_n(16)"
   ],
   "metadata": {
    "collapsed": false,
    "pycharm": {
     "name": "#%%\n"
    }
   }
  },
  {
   "cell_type": "code",
   "execution_count": 17,
   "outputs": [
    {
     "data": {
      "text/plain": "['останавливается', 'запечатлевались', 'заграбастываешь']"
     },
     "execution_count": 17,
     "metadata": {},
     "output_type": "execute_result"
    }
   ],
   "source": [
    "found_words"
   ],
   "metadata": {
    "collapsed": false,
    "pycharm": {
     "name": "#%%\n"
    }
   }
  },
  {
   "cell_type": "code",
   "execution_count": null,
   "outputs": [],
   "source": [],
   "metadata": {
    "collapsed": false,
    "pycharm": {
     "name": "#%%\n"
    }
   }
  }
 ],
 "metadata": {
  "kernelspec": {
   "display_name": "Python 3",
   "language": "python",
   "name": "python3"
  },
  "language_info": {
   "codemirror_mode": {
    "name": "ipython",
    "version": 2
   },
   "file_extension": ".py",
   "mimetype": "text/x-python",
   "name": "python",
   "nbconvert_exporter": "python",
   "pygments_lexer": "ipython2",
   "version": "2.7.6"
  }
 },
 "nbformat": 4,
 "nbformat_minor": 0
}