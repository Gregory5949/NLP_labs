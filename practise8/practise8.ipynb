{
 "cells": [
  {
   "cell_type": "code",
   "execution_count": 1,
   "metadata": {
    "collapsed": true,
    "pycharm": {
     "name": "#%%\n"
    }
   },
   "outputs": [
    {
     "name": "stderr",
     "output_type": "stream",
     "text": [
      "2023-11-24 18:43:59.656490: I tensorflow/core/platform/cpu_feature_guard.cc:182] This TensorFlow binary is optimized to use available CPU instructions in performance-critical operations.\n",
      "To enable the following instructions: AVX2 FMA, in other operations, rebuild TensorFlow with the appropriate compiler flags.\n"
     ]
    }
   ],
   "source": [
    "import pandas as pd\n",
    "import os\n",
    "from nltk import sent_tokenize, word_tokenize\n",
    "import spacy\n",
    "from spacy.lang.ru.examples import sentences\n",
    "from spacy import displacy\n",
    "import pymorphy2\n",
    "import networkx as nx\n",
    "from collections import Counter\n",
    "import matplotlib.pyplot as plt\n",
    "from pyvis.network import Network"
   ]
  },
  {
   "cell_type": "code",
   "execution_count": 2,
   "outputs": [],
   "source": [
    "texts = []\n",
    "nlp = spacy.load(\"ru_core_news_sm\")\n",
    "# nlp.add_pipe(\"merge_entities\")\n",
    "# for f in os.listdir('rus_texts')[:10]:\n",
    "#     texts.append(open(f\"rus_texts/{f}\", 'r').read())"
   ],
   "metadata": {
    "collapsed": false,
    "pycharm": {
     "name": "#%%\n"
    }
   }
  },
  {
   "cell_type": "code",
   "execution_count": 39,
   "outputs": [
    {
     "data": {
      "text/plain": "'Монохронные и полихронные культуры\\nВ мире существует несколько сотен хорошо изученных культур, большинство из них принадлежат крупнейшим национальным государствам - Франции, Германии, России, Японии, и т.д. Таким образом, мы говорим о французской культуре, итальянской культуре, китайской культуре и так далее. Мы можем также говорить о культуре, не зависящей от государственных делений, такой как культура амазонских индейцев, людей, которые живут в Африке к югу от Сахары, мусульманской и конфуцианской культурах, а также о культуре жителей Тихоокеанских островов, и т.д.\\nВсе культуры различаются на национальном уровне, однако многие из них все же имеют сходные черты. Яркими примерами данного утверждения являются немецкая и голландская, итальянская и испанская, финская и эстонская культуры. Культурные эксперты, такие как Эдвард Холл, Герт Хофстеде и Фонс Тромпенаарс проделали серьезную работу, чтобы классифицировать национальные культуры, для облегчения их изучения. Ведь для студентов, изучающих культуру, весьма трудно, практически невозможно, разобраться и понять сто или более типов мышления.\\nЭдвард Холл, чья классификация является более ранней, в своих работах предложил делить культуры на две основные группы - монохронные и полихронные. Хофстеде и другие исследователи часто использовали эти термины, и к 1970-м годам они были достаточно известны. Немцы - представители монохронной культурной группы - люди, которые за один период времени делают какое-то одно дело, завершив его, переходят к следующему по плану. Итальянцы являются классическим примером полихронной культуры, часто выполняют одновременно несколько дел, демонстрируя большую спонтанность, и меньшую заинтересованность в процессе, чем их германские соседи.\\nХотя я и разделяю точку зрения Эдварда Холла, мое собственное исследование и опыт привели меня к мысли, что в классификацию культур необходимо внести третий тип, ведь существует большая группа людей, которые не относятся ни к монохронному ни к полихронному типу культур. Это жители азиатских стран, с которым я общался на протяжении нескольких лет, будучи в Японии и в соседних государствах. Эта группа людей менее решительная, чем представители монохронной культуры, но более сосредоточенная, чем полихронная группа, они редко первые совершают действия, предпочитая сначала услышать позицию противоположной стороны, и лишь затем реагировать на это в своем собственном темпе.\\nИтак, в культурную классификацию Льюиса я включил три категории: моноактивные, полиактивные и реактивные культуры. \\n\\n'"
     },
     "execution_count": 39,
     "metadata": {},
     "output_type": "execute_result"
    }
   ],
   "source": [
    "texts[6]"
   ],
   "metadata": {
    "collapsed": false,
    "pycharm": {
     "name": "#%%\n"
    }
   }
  },
  {
   "cell_type": "code",
   "execution_count": 50,
   "outputs": [],
   "source": [
    "# texts_ = [\"один из 181 проектов, отмеченный греческими властями\"]\n",
    "\n",
    "need = []\n",
    "for t in texts[:20]:\n",
    "    for s in sent_tokenize(t, 'russian'):\n",
    "        doc = nlp(s)\n",
    "        for _ in doc:\n",
    "            if _.dep_ == 'advcl':\n",
    "                need.append(s)\n",
    "\n",
    "\n"
   ],
   "metadata": {
    "collapsed": false,
    "pycharm": {
     "name": "#%%\n"
    }
   }
  },
  {
   "cell_type": "code",
   "execution_count": 51,
   "outputs": [
    {
     "data": {
      "text/plain": "['Он считал, что поверхность земли была пересечена каналами, вырытыми развитой цивилизацией, чтоб направлять воду из замороженных полярных областей на пустынные районы вблизи экватора Красной планеты.',\n 'На самом деле, вам не нужно быть ученым, чтобы думать об этом.',\n 'Даже если там есть жизнь, то это ничто иное, как микроскопические бактерии того, что существовало на Земле в начале своей истории.',\n 'Две недели назад я посетила Боливию, чтобы присутствовать на международной исторической встрече в рамках подготовки к саммиту G77, посвященной исключительно женщинам и вопросам гендерного равенства.',\n 'Если мы хотим, чтобы в 21-ом веке пришел конец дискриминации, неравенству и несправедливости, мы должны уделить максимальное внимание проблемам женщин и девочек.',\n 'С выпуском iPod (воспроизводящим музыку в формате MP3), iPhone (превратившего каждого второго в пользователя смартфона) и iPad (изменившего представления о персональных устройствах), компания Apple стала несокрушимым гигантом на рынке, а цена за одну акцию выросла с $200 до $700, став самыми ценными на американской бирже.',\n 'Не смотря на высокие поставки (продажи iPad значительно превышают Windows) и баснословные активы в $30 миллиардов (или $100, учитывая ожидаемую прибыль), рыночная стоимость Apple упала на 40%.',\n 'Не смотря на высокие поставки (продажи iPad значительно превышают Windows) и баснословные активы в $30 миллиардов (или $100, учитывая ожидаемую прибыль), рыночная стоимость Apple упала на 40%.',\n 'Так, ничто не угрожало первенству Apple в течение трех лет, пока Microsoft не выпустил Surface с продажами в $1,5 миллиона за 6 месяцев.',\n 'В 2012 и 2013 гг. Samsung удалось пошатнуть позиции Apple, опираясь на эти 4 принципа.',\n 'Но хоть и не значительно, продукт Samsung смог обойти Apple!',\n 'Теперь, когда мы уже знаем немного больше о том, как проходили съемки, расскажите, в чем заключалась работа осветителей в фильме \"Гравитация\"?',\n '- Нет, я никогда не сталкивался ни с чем, хотя бы отдаленно напоминающим этот проект.',\n 'Он озвучивал свои пожелания мне, а я, руководствуясь его инструкциями, воплощал идеи в жизнь.',\n 'Что говорить о цифровых кинокамерах (еще один технологический прорыв), при работе с которыми используется высокочувствительная пленка 800 ASA, способная создавать удивительные образы.',\n 'Как он сам написал в начале одного позднего сборника своих работ \"Обманчивые камни Марракеша\": \"Я попытался расширить мой гуманистический взгляд на науку практическим способом...объединить литературное эссе и научно-популярную статью в нечто особенное, в то, что может превзойти наши ограниченные дисциплинарные знания с пользой для обеих сфер (для науки, так как честное мнение осведомленного писателя не может навредить, и для литературной композиции, так как изменения в природе не будут исключены из области наших литературных попыток)\".',\n 'Как он сам написал в начале одного позднего сборника своих работ \"Обманчивые камни Марракеша\": \"Я попытался расширить мой гуманистический взгляд на науку практическим способом...объединить литературное эссе и научно-популярную статью в нечто особенное, в то, что может превзойти наши ограниченные дисциплинарные знания с пользой для обеих сфер (для науки, так как честное мнение осведомленного писателя не может навредить, и для литературной композиции, так как изменения в природе не будут исключены из области наших литературных попыток)\".',\n 'Тем не менее, кажется, что в краткосрочной перспективе положение в экономике будет лучше, чем прогнозировали некоторые экономисты.',\n 'Потребители не сразу понимают плохие экономические новости: человек на улице не думает о статье 50 договора ЕС, когда он входит в торговый центр. И большинство британцев явно никогда не видели в выходе страны из ЕС ничего плохого.',\n 'Культурные эксперты, такие как Эдвард Холл, Герт Хофстеде и Фонс Тромпенаарс проделали серьезную работу, чтобы классифицировать национальные культуры, для облегчения их изучения.',\n 'Немцы - представители монохронной культурной группы - люди, которые за один период времени делают какое-то одно дело, завершив его, переходят к следующему по плану.',\n 'Итальянцы являются классическим примером полихронной культуры, часто выполняют одновременно несколько дел, демонстрируя большую спонтанность, и меньшую заинтересованность в процессе, чем их германские соседи.',\n 'Хотя я и разделяю точку зрения Эдварда Холла, мое собственное исследование и опыт привели меня к мысли, что в классификацию культур необходимо внести третий тип, ведь существует большая группа людей, которые не относятся ни к монохронному ни к полихронному типу культур.',\n 'Хотя я и разделяю точку зрения Эдварда Холла, мое собственное исследование и опыт привели меня к мысли, что в классификацию культур необходимо внести третий тип, ведь существует большая группа людей, которые не относятся ни к монохронному ни к полихронному типу культур.',\n 'Эта группа людей менее решительная, чем представители монохронной культуры, но более сосредоточенная, чем полихронная группа, они редко первые совершают действия, предпочитая сначала услышать позицию противоположной стороны, и лишь затем реагировать на это в своем собственном темпе.',\n 'Вряд ли кто-то из вас слышал о тройной революции, хотя в свое время на эту тему было проведено целое исследование, в котором участвовали выдающиеся ученые, два Нобелевский лауреата.',\n 'В нем говорилось, что США находится на грани экономических и социальных потрясений, поскольку машинное производство приведет к росту безработицы.',\n 'Они так же особо подчеркнули недоказанность очевидных преимуществ- чтение художественной литературы оказывает воздействие только на некоторые из проводимых тестов, такие как выявление эмоций в лицах, испытываемых во время чтения, но никак не влияет на другие тесты, которые включали в себя попытку установить, о чем думал человек, изучая литературное произведение.',\n 'Это интуитивно понятно, и, исходя из этого, можно предположить, что чтение нового романа Джонотона Франзена не будет являться лишь развлечением, а будет настраивать ваш мозг на принятие лучших решений о том, как справляться с жизненными неопределенностями.',\n 'Подводя итог, следует сказать, что результаты исследований были бы гораздо точнее, если бы более эрудированные студенты подходили к жизни с философскими взглядами поэта или новелиста, но на сегодняшний день, несмотря на причудливые изобретения для сканирования человеческого мозга, эта идея остается чем-то большим, нежели хорошей историей для новостей, ждущей своих доказательств.',\n 'Подводя итог, следует сказать, что результаты исследований были бы гораздо точнее, если бы более эрудированные студенты подходили к жизни с философскими взглядами поэта или новелиста, но на сегодняшний день, несмотря на причудливые изобретения для сканирования человеческого мозга, эта идея остается чем-то большим, нежели хорошей историей для новостей, ждущей своих доказательств.',\n 'Грабители отслеживают социальные сети Facebook и Twitter, чтобы знать находитесь вы дома или нет\\n   Оказывается, что нет пределу огромному количеству информации, которую о себе мы выкладываем в сеть.',\n 'Согласно результатам опроса, около 80% бывших грабителей заявляют, что современные преступники используют социальные сети, к примеру, такие как Facebook и Twitter, чтобы знать, когда хозяев нет дома.',\n 'Согласно результатам отчета охранного предприятия \"Фридланд\", обычно взлом дома занимает 10 минут – это время, которое вам потребуется, чтобы сходить до ближайшего магазина и вернуться обратно.',\n '\"Полученные данные разбили некоторые иллюзии, обычно связанные со взломом, так, 4 из 5 раскрытых преступлений не были случайными, а скорее наоборот: грабители несколько раз возвращались к дому, прежде чем его ограбить\",\\n   Отчет также выявил 5 наиболее распространенных ошибок, по мнению бывших грабителей, которые совершают домовладельцы.']"
     },
     "execution_count": 51,
     "metadata": {},
     "output_type": "execute_result"
    }
   ],
   "source": [
    "need"
   ],
   "metadata": {
    "collapsed": false,
    "pycharm": {
     "name": "#%%\n"
    }
   }
  },
  {
   "cell_type": "code",
   "execution_count": null,
   "outputs": [
    {
     "name": "stderr",
     "output_type": "stream",
     "text": [
      "/Users/gd/lib/python3.10/site-packages/spacy/displacy/__init__.py:106: UserWarning: [W011] It looks like you're calling displacy.serve from within a Jupyter notebook or a similar environment. This likely means you're already running a local web server, so there's no need to make displaCy start another one. Instead, you should be able to replace displacy.serve with displacy.render to show the visualization.\n",
      "  warnings.warn(Warnings.W011)\n"
     ]
    },
    {
     "data": {
      "text/plain": "<IPython.core.display.HTML object>",
      "text/html": "<span class=\"tex2jax_ignore\"><!DOCTYPE html>\n<html lang=\"ru\">\n    <head>\n        <title>displaCy</title>\n    </head>\n\n    <body style=\"font-size: 16px; font-family: -apple-system, BlinkMacSystemFont, 'Segoe UI', Helvetica, Arial, sans-serif, 'Apple Color Emoji', 'Segoe UI Emoji', 'Segoe UI Symbol'; padding: 4rem 2rem; direction: ltr\">\n<figure style=\"margin-bottom: 6rem\">\n<svg xmlns=\"http://www.w3.org/2000/svg\" xmlns:xlink=\"http://www.w3.org/1999/xlink\" xml:lang=\"ru\" id=\"a497674c784b456e9d353a6b2755eb16-0\" class=\"displacy\" width=\"2325\" height=\"312.0\" direction=\"ltr\" style=\"max-width: none; height: 312.0px; color: #000000; background: #ffffff; font-family: Arial; direction: ltr\">\n<text class=\"displacy-token\" fill=\"currentColor\" text-anchor=\"middle\" y=\"222.0\">\n    <tspan class=\"displacy-word\" fill=\"currentColor\" x=\"50\">За</tspan>\n    <tspan class=\"displacy-tag\" dy=\"2em\" fill=\"currentColor\" x=\"50\">ADP</tspan>\n</text>\n\n<text class=\"displacy-token\" fill=\"currentColor\" text-anchor=\"middle\" y=\"222.0\">\n    <tspan class=\"displacy-word\" fill=\"currentColor\" x=\"225\">последние</tspan>\n    <tspan class=\"displacy-tag\" dy=\"2em\" fill=\"currentColor\" x=\"225\">ADJ</tspan>\n</text>\n\n<text class=\"displacy-token\" fill=\"currentColor\" text-anchor=\"middle\" y=\"222.0\">\n    <tspan class=\"displacy-word\" fill=\"currentColor\" x=\"400\">несколько</tspan>\n    <tspan class=\"displacy-tag\" dy=\"2em\" fill=\"currentColor\" x=\"400\">NUM</tspan>\n</text>\n\n<text class=\"displacy-token\" fill=\"currentColor\" text-anchor=\"middle\" y=\"222.0\">\n    <tspan class=\"displacy-word\" fill=\"currentColor\" x=\"575\">лет</tspan>\n    <tspan class=\"displacy-tag\" dy=\"2em\" fill=\"currentColor\" x=\"575\">NOUN</tspan>\n</text>\n\n<text class=\"displacy-token\" fill=\"currentColor\" text-anchor=\"middle\" y=\"222.0\">\n    <tspan class=\"displacy-word\" fill=\"currentColor\" x=\"750\">неврологи</tspan>\n    <tspan class=\"displacy-tag\" dy=\"2em\" fill=\"currentColor\" x=\"750\">NOUN</tspan>\n</text>\n\n<text class=\"displacy-token\" fill=\"currentColor\" text-anchor=\"middle\" y=\"222.0\">\n    <tspan class=\"displacy-word\" fill=\"currentColor\" x=\"925\">стали</tspan>\n    <tspan class=\"displacy-tag\" dy=\"2em\" fill=\"currentColor\" x=\"925\">VERB</tspan>\n</text>\n\n<text class=\"displacy-token\" fill=\"currentColor\" text-anchor=\"middle\" y=\"222.0\">\n    <tspan class=\"displacy-word\" fill=\"currentColor\" x=\"1100\">частью</tspan>\n    <tspan class=\"displacy-tag\" dy=\"2em\" fill=\"currentColor\" x=\"1100\">NOUN</tspan>\n</text>\n\n<text class=\"displacy-token\" fill=\"currentColor\" text-anchor=\"middle\" y=\"222.0\">\n    <tspan class=\"displacy-word\" fill=\"currentColor\" x=\"1275\">задачи,</tspan>\n    <tspan class=\"displacy-tag\" dy=\"2em\" fill=\"currentColor\" x=\"1275\">NOUN</tspan>\n</text>\n\n<text class=\"displacy-token\" fill=\"currentColor\" text-anchor=\"middle\" y=\"222.0\">\n    <tspan class=\"displacy-word\" fill=\"currentColor\" x=\"1450\">исследуемой</tspan>\n    <tspan class=\"displacy-tag\" dy=\"2em\" fill=\"currentColor\" x=\"1450\">VERB</tspan>\n</text>\n\n<text class=\"displacy-token\" fill=\"currentColor\" text-anchor=\"middle\" y=\"222.0\">\n    <tspan class=\"displacy-word\" fill=\"currentColor\" x=\"1625\">попытки</tspan>\n    <tspan class=\"displacy-tag\" dy=\"2em\" fill=\"currentColor\" x=\"1625\">NOUN</tspan>\n</text>\n\n<text class=\"displacy-token\" fill=\"currentColor\" text-anchor=\"middle\" y=\"222.0\">\n    <tspan class=\"displacy-word\" fill=\"currentColor\" x=\"1800\">измерить</tspan>\n    <tspan class=\"displacy-tag\" dy=\"2em\" fill=\"currentColor\" x=\"1800\">VERB</tspan>\n</text>\n\n<text class=\"displacy-token\" fill=\"currentColor\" text-anchor=\"middle\" y=\"222.0\">\n    <tspan class=\"displacy-word\" fill=\"currentColor\" x=\"1975\">и</tspan>\n    <tspan class=\"displacy-tag\" dy=\"2em\" fill=\"currentColor\" x=\"1975\">CCONJ</tspan>\n</text>\n\n<text class=\"displacy-token\" fill=\"currentColor\" text-anchor=\"middle\" y=\"222.0\">\n    <tspan class=\"displacy-word\" fill=\"currentColor\" x=\"2150\">пронаблюдать</tspan>\n    <tspan class=\"displacy-tag\" dy=\"2em\" fill=\"currentColor\" x=\"2150\">VERB</tspan>\n</text>\n\n<g class=\"displacy-arrow\">\n    <path class=\"displacy-arc\" id=\"arrow-a497674c784b456e9d353a6b2755eb16-0-0\" stroke-width=\"2px\" d=\"M70,177.0 C70,2.0 575.0,2.0 575.0,177.0\" fill=\"none\" stroke=\"currentColor\"/>\n    <text dy=\"1.25em\" style=\"font-size: 0.8em; letter-spacing: 1px\">\n        <textPath xlink:href=\"#arrow-a497674c784b456e9d353a6b2755eb16-0-0\" class=\"displacy-label\" startOffset=\"50%\" side=\"left\" fill=\"currentColor\" text-anchor=\"middle\">case</textPath>\n    </text>\n    <path class=\"displacy-arrowhead\" d=\"M70,179.0 L62,167.0 78,167.0\" fill=\"currentColor\"/>\n</g>\n\n<g class=\"displacy-arrow\">\n    <path class=\"displacy-arc\" id=\"arrow-a497674c784b456e9d353a6b2755eb16-0-1\" stroke-width=\"2px\" d=\"M245,177.0 C245,89.5 395.0,89.5 395.0,177.0\" fill=\"none\" stroke=\"currentColor\"/>\n    <text dy=\"1.25em\" style=\"font-size: 0.8em; letter-spacing: 1px\">\n        <textPath xlink:href=\"#arrow-a497674c784b456e9d353a6b2755eb16-0-1\" class=\"displacy-label\" startOffset=\"50%\" side=\"left\" fill=\"currentColor\" text-anchor=\"middle\">amod</textPath>\n    </text>\n    <path class=\"displacy-arrowhead\" d=\"M245,179.0 L237,167.0 253,167.0\" fill=\"currentColor\"/>\n</g>\n\n<g class=\"displacy-arrow\">\n    <path class=\"displacy-arc\" id=\"arrow-a497674c784b456e9d353a6b2755eb16-0-2\" stroke-width=\"2px\" d=\"M420,177.0 C420,89.5 570.0,89.5 570.0,177.0\" fill=\"none\" stroke=\"currentColor\"/>\n    <text dy=\"1.25em\" style=\"font-size: 0.8em; letter-spacing: 1px\">\n        <textPath xlink:href=\"#arrow-a497674c784b456e9d353a6b2755eb16-0-2\" class=\"displacy-label\" startOffset=\"50%\" side=\"left\" fill=\"currentColor\" text-anchor=\"middle\">nummod:gov</textPath>\n    </text>\n    <path class=\"displacy-arrowhead\" d=\"M420,179.0 L412,167.0 428,167.0\" fill=\"currentColor\"/>\n</g>\n\n<g class=\"displacy-arrow\">\n    <path class=\"displacy-arc\" id=\"arrow-a497674c784b456e9d353a6b2755eb16-0-3\" stroke-width=\"2px\" d=\"M595,177.0 C595,2.0 925.0,2.0 925.0,177.0\" fill=\"none\" stroke=\"currentColor\"/>\n    <text dy=\"1.25em\" style=\"font-size: 0.8em; letter-spacing: 1px\">\n        <textPath xlink:href=\"#arrow-a497674c784b456e9d353a6b2755eb16-0-3\" class=\"displacy-label\" startOffset=\"50%\" side=\"left\" fill=\"currentColor\" text-anchor=\"middle\">obl</textPath>\n    </text>\n    <path class=\"displacy-arrowhead\" d=\"M595,179.0 L587,167.0 603,167.0\" fill=\"currentColor\"/>\n</g>\n\n<g class=\"displacy-arrow\">\n    <path class=\"displacy-arc\" id=\"arrow-a497674c784b456e9d353a6b2755eb16-0-4\" stroke-width=\"2px\" d=\"M770,177.0 C770,89.5 920.0,89.5 920.0,177.0\" fill=\"none\" stroke=\"currentColor\"/>\n    <text dy=\"1.25em\" style=\"font-size: 0.8em; letter-spacing: 1px\">\n        <textPath xlink:href=\"#arrow-a497674c784b456e9d353a6b2755eb16-0-4\" class=\"displacy-label\" startOffset=\"50%\" side=\"left\" fill=\"currentColor\" text-anchor=\"middle\">nsubj</textPath>\n    </text>\n    <path class=\"displacy-arrowhead\" d=\"M770,179.0 L762,167.0 778,167.0\" fill=\"currentColor\"/>\n</g>\n\n<g class=\"displacy-arrow\">\n    <path class=\"displacy-arc\" id=\"arrow-a497674c784b456e9d353a6b2755eb16-0-5\" stroke-width=\"2px\" d=\"M945,177.0 C945,89.5 1095.0,89.5 1095.0,177.0\" fill=\"none\" stroke=\"currentColor\"/>\n    <text dy=\"1.25em\" style=\"font-size: 0.8em; letter-spacing: 1px\">\n        <textPath xlink:href=\"#arrow-a497674c784b456e9d353a6b2755eb16-0-5\" class=\"displacy-label\" startOffset=\"50%\" side=\"left\" fill=\"currentColor\" text-anchor=\"middle\">xcomp</textPath>\n    </text>\n    <path class=\"displacy-arrowhead\" d=\"M1095.0,179.0 L1103.0,167.0 1087.0,167.0\" fill=\"currentColor\"/>\n</g>\n\n<g class=\"displacy-arrow\">\n    <path class=\"displacy-arc\" id=\"arrow-a497674c784b456e9d353a6b2755eb16-0-6\" stroke-width=\"2px\" d=\"M1120,177.0 C1120,89.5 1270.0,89.5 1270.0,177.0\" fill=\"none\" stroke=\"currentColor\"/>\n    <text dy=\"1.25em\" style=\"font-size: 0.8em; letter-spacing: 1px\">\n        <textPath xlink:href=\"#arrow-a497674c784b456e9d353a6b2755eb16-0-6\" class=\"displacy-label\" startOffset=\"50%\" side=\"left\" fill=\"currentColor\" text-anchor=\"middle\">nmod</textPath>\n    </text>\n    <path class=\"displacy-arrowhead\" d=\"M1270.0,179.0 L1278.0,167.0 1262.0,167.0\" fill=\"currentColor\"/>\n</g>\n\n<g class=\"displacy-arrow\">\n    <path class=\"displacy-arc\" id=\"arrow-a497674c784b456e9d353a6b2755eb16-0-7\" stroke-width=\"2px\" d=\"M1295,177.0 C1295,89.5 1445.0,89.5 1445.0,177.0\" fill=\"none\" stroke=\"currentColor\"/>\n    <text dy=\"1.25em\" style=\"font-size: 0.8em; letter-spacing: 1px\">\n        <textPath xlink:href=\"#arrow-a497674c784b456e9d353a6b2755eb16-0-7\" class=\"displacy-label\" startOffset=\"50%\" side=\"left\" fill=\"currentColor\" text-anchor=\"middle\">acl</textPath>\n    </text>\n    <path class=\"displacy-arrowhead\" d=\"M1445.0,179.0 L1453.0,167.0 1437.0,167.0\" fill=\"currentColor\"/>\n</g>\n\n<g class=\"displacy-arrow\">\n    <path class=\"displacy-arc\" id=\"arrow-a497674c784b456e9d353a6b2755eb16-0-8\" stroke-width=\"2px\" d=\"M1470,177.0 C1470,89.5 1620.0,89.5 1620.0,177.0\" fill=\"none\" stroke=\"currentColor\"/>\n    <text dy=\"1.25em\" style=\"font-size: 0.8em; letter-spacing: 1px\">\n        <textPath xlink:href=\"#arrow-a497674c784b456e9d353a6b2755eb16-0-8\" class=\"displacy-label\" startOffset=\"50%\" side=\"left\" fill=\"currentColor\" text-anchor=\"middle\">obj</textPath>\n    </text>\n    <path class=\"displacy-arrowhead\" d=\"M1620.0,179.0 L1628.0,167.0 1612.0,167.0\" fill=\"currentColor\"/>\n</g>\n\n<g class=\"displacy-arrow\">\n    <path class=\"displacy-arc\" id=\"arrow-a497674c784b456e9d353a6b2755eb16-0-9\" stroke-width=\"2px\" d=\"M1645,177.0 C1645,89.5 1795.0,89.5 1795.0,177.0\" fill=\"none\" stroke=\"currentColor\"/>\n    <text dy=\"1.25em\" style=\"font-size: 0.8em; letter-spacing: 1px\">\n        <textPath xlink:href=\"#arrow-a497674c784b456e9d353a6b2755eb16-0-9\" class=\"displacy-label\" startOffset=\"50%\" side=\"left\" fill=\"currentColor\" text-anchor=\"middle\">nmod</textPath>\n    </text>\n    <path class=\"displacy-arrowhead\" d=\"M1795.0,179.0 L1803.0,167.0 1787.0,167.0\" fill=\"currentColor\"/>\n</g>\n\n<g class=\"displacy-arrow\">\n    <path class=\"displacy-arc\" id=\"arrow-a497674c784b456e9d353a6b2755eb16-0-10\" stroke-width=\"2px\" d=\"M1995,177.0 C1995,89.5 2145.0,89.5 2145.0,177.0\" fill=\"none\" stroke=\"currentColor\"/>\n    <text dy=\"1.25em\" style=\"font-size: 0.8em; letter-spacing: 1px\">\n        <textPath xlink:href=\"#arrow-a497674c784b456e9d353a6b2755eb16-0-10\" class=\"displacy-label\" startOffset=\"50%\" side=\"left\" fill=\"currentColor\" text-anchor=\"middle\">cc</textPath>\n    </text>\n    <path class=\"displacy-arrowhead\" d=\"M1995,179.0 L1987,167.0 2003,167.0\" fill=\"currentColor\"/>\n</g>\n\n<g class=\"displacy-arrow\">\n    <path class=\"displacy-arc\" id=\"arrow-a497674c784b456e9d353a6b2755eb16-0-11\" stroke-width=\"2px\" d=\"M945,177.0 C945,2.0 2150.0,2.0 2150.0,177.0\" fill=\"none\" stroke=\"currentColor\"/>\n    <text dy=\"1.25em\" style=\"font-size: 0.8em; letter-spacing: 1px\">\n        <textPath xlink:href=\"#arrow-a497674c784b456e9d353a6b2755eb16-0-11\" class=\"displacy-label\" startOffset=\"50%\" side=\"left\" fill=\"currentColor\" text-anchor=\"middle\">conj</textPath>\n    </text>\n    <path class=\"displacy-arrowhead\" d=\"M2150.0,179.0 L2158.0,167.0 2142.0,167.0\" fill=\"currentColor\"/>\n</g>\n</svg>\n</figure>\n</body>\n</html></span>"
     },
     "metadata": {},
     "output_type": "display_data"
    },
    {
     "name": "stdout",
     "output_type": "stream",
     "text": [
      "\n",
      "Using the 'dep' visualizer\n",
      "Serving on http://0.0.0.0:5001 ...\n",
      "\n"
     ]
    }
   ],
   "source": [
    "d_ = nlp('За последние несколько лет неврологи стали частью задачи, исследуемой попытки измерить и пронаблюдать')\n",
    "displacy.serve(d_, style='dep', port=5001)"
   ],
   "metadata": {
    "collapsed": false,
    "pycharm": {
     "name": "#%%\n",
     "is_executing": true
    }
   }
  },
  {
   "cell_type": "code",
   "execution_count": 19,
   "outputs": [],
   "source": [
    "from natasha import (\n",
    "    NewsEmbedding,\n",
    "    NewsNERTagger,\n",
    ")\n",
    "emb = NewsEmbedding()\n",
    "ner_tagger = NewsNERTagger(emb)\n",
    "named_entities_texts = [ner_tagger(t) for t in texts]\n"
   ],
   "metadata": {
    "collapsed": false,
    "pycharm": {
     "name": "#%%\n"
    }
   }
  },
  {
   "cell_type": "code",
   "execution_count": 20,
   "outputs": [
    {
     "name": "stdout",
     "output_type": "stream",
     "text": [
      "Мартин Рис\n",
      "Джордано Бруно\n",
      "Бруно\n",
      "Риме\n",
      "Жюля Верна\n",
      "Г.Дж. Уэллса\n",
      "Персиваль Ловэлл\n",
      "Флагстафф\n",
      "Аризона\n",
      "Марса\n",
      "Красной планеты\n",
      "Марсу\n",
      "Земле\n",
      "Марсе\n",
      "Землю\n",
      "Г77\n",
      "Китая\n",
      "Боливии\n",
      "G77\n",
      "G77\n",
      "Боливию\n",
      "G77\n",
      "Эво Моралес\n",
      "Боливии\n",
      "Латинская Америка\n",
      "Боливии\n",
      "Боливию\n",
      "G77\n",
      "Samsung Apple\n",
      "Apple\n",
      "Apple\n",
      "Apple\n",
      "Apple\n",
      "Microsoft\n",
      "Apple\n",
      "Samsung\n",
      "Apple\n",
      "Samsung\n",
      "Samsung\n",
      "Apple\n",
      "Samsung\n",
      "Питер Тейлор\n",
      "Эммануэль Любецки\n",
      "Чиво\n",
      "Э. Любецки\n",
      "Роджер Дикинс\n",
      "Лондоне\n",
      "Роджер\n",
      "Северном море\n",
      "Бигглз\n",
      "Бигглза\n",
      "У. Е. Джонсона\n",
      "ASA\n",
      "Гарвардского университета\n",
      "Стивена Джей Гулда\n",
      "Natural History\n",
      "Гулд\n",
      "Гулда\n",
      "Social Studies of Science\n",
      "Гулдом\n",
      "Гулд\n",
      "Чарльза Дарвина\n",
      "Дарвина\n",
      "Брексита\n",
      "Ожидание\n",
      "Великобритании\n",
      "FTSE 250\n",
      "ЕС\n",
      "FTSE\n",
      "Брексита\n",
      "ЕС\n",
      "Англии\n",
      "Тереза Мэй\n",
      "Британии\n",
      "ЕС\n",
      "Дэвид Кэмерон\n",
      "Британия\n",
      "ЕС\n",
      "Брексита\n",
      "Мэй\n",
      "ЕС\n",
      "Брексита\n",
      "Великобритании\n",
      "ЕС\n",
      "Lehman Brothers\n",
      "ЕС\n",
      "ЕС\n",
      "Франции\n",
      "Германии\n",
      "России\n",
      "Японии\n",
      "Африке\n",
      "Сахары\n",
      "Тихоокеанских островов\n",
      "Эдвард Холл\n",
      "Герт Хофстеде\n",
      "Фонс Тромпенаарс\n",
      "Эдвард Холл\n",
      "Эдварда Холла\n",
      "Японии\n",
      "Мартин Форд\n",
      "TED\n",
      "Давайте\n",
      "Англии\n",
      "Соединенных Штатов\n",
      "США\n",
      "США\n",
      "Линдону Джонсону\n",
      "Кристиана Джаретта\n",
      "Дона ДеДелило\n",
      "Лидии Дэвис\n",
      "Даниэля Стила\n",
      "Розамунда Пилчера\n",
      "Роберта Харрисона\n",
      "Джонотона Франзена\n",
      "Ученые-исследователи\n",
      "Земле\n",
      "Facebook\n",
      "Twitter\n",
      "Facebook\n",
      "Twitter\n",
      "Фридланд\n",
      "Джонатан Лим\n",
      "Фридланд\n",
      "Дэйли Мейл\n"
     ]
    }
   ],
   "source": [
    "for i in named_entities_texts:\n",
    "    for j in i.spans:\n",
    "        print(i.text[j.start : j.stop])"
   ],
   "metadata": {
    "collapsed": false,
    "pycharm": {
     "name": "#%%\n"
    }
   }
  },
  {
   "cell_type": "code",
   "execution_count": 58,
   "outputs": [],
   "source": [
    "subjects = []\n",
    "objects = []\n",
    "relations = []\n",
    "\n",
    "\n",
    "entities = []\n",
    "for t in texts:\n",
    "    doc = nlp(t)\n",
    "    for s in doc.sents:\n",
    "        c = Counter()\n",
    "        # s_ = ner_tagger(s.text)\n",
    "        # for j in s_.spans:\n",
    "        #     print(j)\n",
    "        #     if s_.text[j.start : j.stop] in s.text:\n",
    "        #         print(s_.text[j.start : j.stop])\n",
    "        #         print(s.text)\n",
    "        #     else:\n",
    "        #         print(0)\n",
    "\n",
    "        for token in s:\n",
    "            if token.ent_type != 0 and token.dep_ == 'nsubj' or token.dep_ == 'ROOT' or token.dep_ == 'obj' or token.dep_ == 'obl' or token.dep_ == 'conj':\n",
    "                if token.dep_ in c:\n",
    "                    c[token.dep_].append(token.lemma_)\n",
    "                else:\n",
    "                    c[token.dep_] = [token.lemma_]\n",
    "\n",
    "        #\n",
    "        #\n",
    "        cnt_nsubj = 0 if c['nsubj'] == 0 else len(c['nsubj'])\n",
    "        cnt_ROOT = 0 if c['ROOT'] == 0 else len(c['ROOT'])\n",
    "        cnt_obj = 0 if c['obj'] == 0 else len(c['obj'])\n",
    "        cnt_obl = 0 if c['obl'] == 0 else len(c['obl'])\n",
    "        cnt_conj = 0 if c['conj'] == 0 else len(c['conj'])\n",
    "        sent_rels = []\n",
    "\n",
    "        for i in range(cnt_nsubj):\n",
    "            for j in range(cnt_ROOT):\n",
    "                for k in range(cnt_obj):\n",
    "                    entities.append((c['nsubj'][i], c['ROOT'][j],c['obj'][k], ('nsubj', 'ROOT', 'obj')))\n",
    "\n",
    "        for i in range(cnt_nsubj):\n",
    "            for j in range(cnt_ROOT):\n",
    "                for k in range(cnt_obl):\n",
    "                    entities.append((c['nsubj'][i], c['ROOT'][j],c['obl'][k],  ('nsubj', 'ROOT', 'obl')))\n"
   ],
   "metadata": {
    "collapsed": false,
    "pycharm": {
     "name": "#%%\n"
    }
   }
  },
  {
   "cell_type": "code",
   "execution_count": 59,
   "outputs": [
    {
     "data": {
      "text/plain": "[('сэр мартин рис', 'писать', 'космос', ('nsubj', 'ROOT', 'obl')),\n ('сэр мартин рис', 'писать', 'солнце', ('nsubj', 'ROOT', 'obl')),\n ('сэр мартин рис', 'писать', 'которых', ('nsubj', 'ROOT', 'obl')),\n ('сэр мартин рис', 'писать', 'земля', ('nsubj', 'ROOT', 'obl')),\n ('персиваль ловэлл', 'построить', 'обсерватория', ('nsubj', 'ROOT', 'obj')),\n ('персиваль ловэлл', 'построить', 'изучение', ('nsubj', 'ROOT', 'obl')),\n ('эво моралес', 'присутствовать', 'встреча', ('nsubj', 'ROOT', 'obl')),\n ('латинский америка', 'пережить', 'борьба', ('nsubj', 'ROOT', 'obj')),\n ('samsung apple', 'заткнуть', 'пояс', ('nsubj', 'ROOT', 'obl')),\n ('samsung apple', 'заткнуть', '4', ('nsubj', 'ROOT', 'obl')),\n ('samsung apple', 'заткнуть', 'год', ('nsubj', 'ROOT', 'obl')),\n ('samsung apple', 'заткнуть', 'появление', ('nsubj', 'ROOT', 'obl')),\n ('apple', 'оправдаться', 'круг', ('nsubj', 'ROOT', 'obj')),\n ('apple', 'оправдаться', 'новинка', ('nsubj', 'ROOT', 'obl')),\n ('microsoft', 'угрожать', 'surface', ('nsubj', 'ROOT', 'obj')),\n ('microsoft', 'угрожать', 'миллион', ('nsubj', 'ROOT', 'obj')),\n ('microsoft', 'угрожать', 'год', ('nsubj', 'ROOT', 'obl')),\n ('microsoft', 'угрожать', 'продажа', ('nsubj', 'ROOT', 'obl')),\n ('microsoft', 'угрожать', 'месяц', ('nsubj', 'ROOT', 'obl')),\n ('эммануэль любецки', 'вызов', 'результат', ('nsubj', 'ROOT', 'obj')),\n ('эммануэль любецки', 'вызов', 'воображение', ('nsubj', 'ROOT', 'obl')),\n ('гулд', 'наука', 'это', ('nsubj', 'ROOT', 'obj')),\n ('гулд', 'наука', 'котором', ('nsubj', 'ROOT', 'obl')),\n ('гулд', 'наука', 'сочинениях', ('nsubj', 'ROOT', 'obl')),\n ('гулд', 'наука', 'истина', ('nsubj', 'ROOT', 'obl')),\n ('гулд', 'наука', 'открытие', ('nsubj', 'ROOT', 'obl')),\n ('фунт', 'стабилизироваться', 'уровень', ('nsubj', 'ROOT', 'obl')),\n ('тереза мэй', 'заверить', 'правительство', ('nsubj', 'ROOT', 'obj')),\n ('тереза мэй', 'заверить', 'политика', ('nsubj', 'ROOT', 'obj')),\n ('дэвид кэмерон', 'давать', 'процесс', ('nsubj', 'ROOT', 'obj')),\n ('британия', 'давать', 'процесс', ('nsubj', 'ROOT', 'obj')),\n ('дэвид кэмерон', 'давать', 'референдум', ('nsubj', 'ROOT', 'obl')),\n ('дэвид кэмерон', 'давать', 'случай', ('nsubj', 'ROOT', 'obl')),\n ('британия', 'давать', 'референдум', ('nsubj', 'ROOT', 'obl')),\n ('британия', 'давать', 'случай', ('nsubj', 'ROOT', 'obl')),\n ('мэй', 'заявить', 'год', ('nsubj', 'ROOT', 'obl')),\n ('мэй', 'заявить', '31', ('nsubj', 'ROOT', 'obl')),\n ('lehman brothers', 'заставлять', 'кризис', ('nsubj', 'ROOT', 'obj')),\n ('lehman brothers', 'заставлять', 'сумма', ('nsubj', 'ROOT', 'obl')),\n ('lehman brothers', 'заставлять', 'сентябрь', ('nsubj', 'ROOT', 'obl')),\n ('lehman brothers', 'заставлять', 'тем', ('nsubj', 'ROOT', 'obl')),\n ('эдвард холл', 'предложить', 'культура', ('nsubj', 'ROOT', 'obj')),\n ('эдвард холл', 'предложить', '-', ('nsubj', 'ROOT', 'obj')),\n ('эдвард холл', 'предложить', 'монохронные', ('nsubj', 'ROOT', 'obj')),\n ('эдвард холл', 'предложить', 'работа', ('nsubj', 'ROOT', 'obl')),\n ('эдвард холл', 'предложить', 'группа', ('nsubj', 'ROOT', 'obl')),\n ('мартин форд', 'вопрос', 'деньга', ('nsubj', 'ROOT', 'obj')),\n ('мартин форд', 'вопрос', 'работа', ('nsubj', 'ROOT', 'obj')),\n ('мартин форд', 'вопрос', 'нас', ('nsubj', 'ROOT', 'obj')),\n ('мартин форд', 'вопрос', 'всех', ('nsubj', 'ROOT', 'obj')),\n ('мартин форд', 'вопрос', 'иметь', ('nsubj', 'ROOT', 'obl')),\n ('мартин форд', 'вопрос', 'вопрос', ('nsubj', 'ROOT', 'obl')),\n ('мартин форд', 'вопрос', 'работа', ('nsubj', 'ROOT', 'obl')),\n ('сша', 'говориться', 'нем', ('nsubj', 'ROOT', 'obl')),\n ('сша', 'говориться', 'грань', ('nsubj', 'ROOT', 'obl')),\n ('сша', 'говориться', 'рост', ('nsubj', 'ROOT', 'obl')),\n ('джонатан лим', 'заявить', 'доступ', ('nsubj', 'ROOT', 'obj')),\n ('джонатан лим', 'заявить', 'информация', ('nsubj', 'ROOT', 'obj'))]"
     },
     "execution_count": 59,
     "metadata": {},
     "output_type": "execute_result"
    }
   ],
   "source": [
    "entities"
   ],
   "metadata": {
    "collapsed": false,
    "pycharm": {
     "name": "#%%\n"
    }
   }
  },
  {
   "cell_type": "code",
   "execution_count": 60,
   "outputs": [],
   "source": [
    "G = nx.DiGraph()\n",
    "for e in entities:\n",
    "    G.add_node(e[0])\n",
    "    G.add_node(e[2])\n",
    "    G.add_edge(e[0],e[2], label=e[1])\n",
    "    # G.add_edge(e[1],e[2], label=e[1])"
   ],
   "metadata": {
    "collapsed": false,
    "pycharm": {
     "name": "#%%\n"
    }
   }
  },
  {
   "cell_type": "code",
   "execution_count": 61,
   "outputs": [
    {
     "name": "stdout",
     "output_type": "stream",
     "text": [
      "Warning: When  cdn_resources is 'local' jupyter notebook has issues displaying graphics on chrome/safari. Use cdn_resources='in_line' or cdn_resources='remote' if you have issues viewing graphics in a notebook.\n"
     ]
    }
   ],
   "source": [
    "net = Network(notebook=True)"
   ],
   "metadata": {
    "collapsed": false,
    "pycharm": {
     "name": "#%%\n"
    }
   }
  },
  {
   "cell_type": "code",
   "execution_count": 62,
   "outputs": [],
   "source": [
    "net.from_nx(G)"
   ],
   "metadata": {
    "collapsed": false,
    "pycharm": {
     "name": "#%%\n"
    }
   }
  },
  {
   "cell_type": "code",
   "execution_count": 63,
   "outputs": [
    {
     "name": "stdout",
     "output_type": "stream",
     "text": [
      "example3.html\n"
     ]
    },
    {
     "data": {
      "text/plain": "<IPython.lib.display.IFrame at 0x149a5c1c0>",
      "text/html": "\n        <iframe\n            width=\"100%\"\n            height=\"600px\"\n            src=\"example3.html\"\n            frameborder=\"0\"\n            allowfullscreen\n            \n        ></iframe>\n        "
     },
     "execution_count": 63,
     "metadata": {},
     "output_type": "execute_result"
    }
   ],
   "source": [
    "net.show('example3.html')"
   ],
   "metadata": {
    "collapsed": false,
    "pycharm": {
     "name": "#%%\n"
    }
   }
  },
  {
   "cell_type": "code",
   "execution_count": 114,
   "outputs": [],
   "source": [
    "def print_adjacent_nodes(obj):\n",
    "    adj_nodes = list(nx.shortest_path(G, source=obj))\n",
    "    adj_nodes.remove(obj)\n",
    "\n",
    "    for node in adj_nodes:\n",
    "        edges = nx.edges(G, [node])\n",
    "        print(f\"{node} -> {edges}\")\n"
   ],
   "metadata": {
    "collapsed": false,
    "pycharm": {
     "name": "#%%\n"
    }
   }
  },
  {
   "cell_type": "code",
   "execution_count": 117,
   "outputs": [
    {
     "name": "stdout",
     "output_type": "stream",
     "text": [
      "samsung -> [('samsung', 'заткнуть')]\n",
      "пояс -> [('пояс', 'заткнуть')]\n",
      "4 -> [('4', 'заткнуть'), ('4', 'разбить')]\n",
      "год -> [('год', 'обнаружить'), ('год', 'приближаться'), ('год', 'заткнуть'), ('год', 'угрожать'), ('год', 'предоставить'), ('год', 'получить'), ('год', 'представить'), ('год', 'заявить'), ('год', 'произойти'), ('год', 'вырасти'), ('год', 'использовать'), ('год', 'брать'), ('год', 'стать')]\n",
      "появление -> [('появление', 'заткнуть'), ('появление', 'востребовать')]\n",
      "разбить -> [('разбить', '4'), ('разбить', 'данные'), ('разбить', 'иллюзия'), ('разбить', 'его'), ('разбить', 'ошибка'), ('разбить', 'которые'), ('разбить', 'грабитель'), ('разбить', 'отчёт'), ('разбить', 'домовладелец'), ('разбить', 'взлом'), ('разбить', 'раз'), ('разбить', 'дом'), ('разбить', 'мнение')]\n",
      "обнаружить -> [('обнаружить', 'астроном'), ('обнаружить', 'окружение'), ('обнаружить', 'звезда'), ('обнаружить', 'год')]\n",
      "приближаться -> [('приближаться', 'разработка'), ('приближаться', 'год'), ('приближаться', 'завершение')]\n",
      "угрожать -> [('угрожать', 'ничто'), ('угрожать', 'surface'), ('угрожать', 'миллион'), ('угрожать', 'microsoft'), ('угрожать', 'год'), ('угрожать', 'продажа'), ('угрожать', 'месяц')]\n",
      "предоставить -> [('предоставить', 'он'), ('предоставить', 'шанс'), ('предоставить', 'опыт'), ('предоставить', 'я'), ('предоставить', 'год'), ('предоставить', 'осветитель'), ('предоставить', 'фильм'), ('предоставить', 'результат')]\n",
      "получить -> [('получить', 'я'), ('получить', 'прозвище'), ('получить', 'которые'), ('получить', 'ус'), ('получить', 'бигглза'), ('получить', 'год'), ('получить', 'мальчишка')]\n",
      "представить -> [('представить', 'я'), ('представить', 'анализ'), ('представить', 'тема'), ('представить', 'год'), ('представить', 'исследование'), ('представить', 'журнал'), ('представить', 'которых')]\n",
      "заявить -> [('заявить', 'г'), ('заявить', 'год'), ('заявить', '31'), ('заявить', '-'), ('заявить', 'жа'), ('заявить', 'мэй'), ('заявить', 'переговоры'), ('заявить', 'заседание'), ('заявить', 'джонатан'), ('заявить', 'доступ'), ('заявить', 'информация'), ('заявить', 'исследование')]\n",
      "произойти -> [('произойти', 'это'), ('произойти', 'мера'), ('произойти', 'банк'), ('произойти', 'месяц'), ('произойти', 'выход'), ('произойти', 'вероятность'), ('произойти', 'год')]\n",
      "вырасти -> [('вырасти', 'продажа'), ('вырасти', 'июль'), ('вырасти', '%'), ('вырасти', 'год')]\n",
      "использовать -> [('использовать', 'компания'), ('использовать', 'технология'), ('использовать', 'устройство'), ('использовать', 'телефон'), ('использовать', 'хофстеде'), ('использовать', 'термин'), ('использовать', 'они'), ('использовать', 'год')]\n",
      "брать -> [('брать', 'страх'), ('брать', 'рабочий'), ('брать', 'начало'), ('брать', 'автоматизация'), ('брать', 'уровень'), ('брать', 'год'), ('брать', 'восстание')]\n",
      "стать -> [('стать', 'компания'), ('стать', 'музыка'), ('стать', 'второй'), ('стать', 'цена'), ('стать', 'выпуск'), ('стать', 'пользователь'), ('стать', '$'), ('стать', 'бизнес'), ('стать', 'большинство'), ('стать', 'страна'), ('стать', 'невролог'), ('стать', 'попытка'), ('стать', 'преимущество'), ('стать', 'год'), ('стать', 'снимок'), ('стать', 'связь'), ('стать', 'оттого'), ('стать', 'что'), ('стать', 'чтение'), ('стать', '2014')]\n",
      "востребовать -> [('востребовать', 'перспектива'), ('востребовать', 'появление')]\n",
      "данные -> [('данные', 'разбить')]\n",
      "иллюзия -> [('иллюзия', 'разбить')]\n",
      "его -> [('его', 'переходить'), ('его', 'разбить')]\n",
      "ошибка -> [('ошибка', 'вы'), ('ошибка', 'выходной'), ('ошибка', 'фотография'), ('ошибка', 'ключ'), ('ошибка', 'которые'), ('ошибка', 'разбить')]\n",
      "которые -> [('которые', 'получить'), ('которые', 'открыть'), ('которые', 'мочь'), ('которые', 'переходить'), ('которые', 'привести'), ('которые', 'подчеркнуть'), ('которые', 'утверждать'), ('которые', 'ошибка'), ('которые', 'разбить')]\n",
      "грабитель -> [('грабитель', 'отслеживать'), ('грабитель', 'разбить')]\n",
      "отчёт -> [('отчёт', 'разбить')]\n",
      "домовладелец -> [('домовладелец', 'разбить')]\n",
      "взлом -> [('взлом', 'занимать'), ('взлом', 'разбить')]\n",
      "раз -> [('раз', 'высказывать'), ('раз', 'разбить')]\n",
      "дом -> [('дом', 'заявлять'), ('дом', 'разбить')]\n",
      "мнение -> [('мнение', 'написать'), ('мнение', 'разбить')]\n",
      "астроном -> [('астроном', 'обнаружить')]\n",
      "окружение -> [('окружение', 'обнаружить')]\n",
      "звезда -> [('звезда', 'обнаружить')]\n",
      "разработка -> [('разработка', 'приближаться')]\n",
      "завершение -> [('завершение', 'приближаться')]\n",
      "ничто -> [('ничто', 'жизнь'), ('ничто', 'земля'), ('ничто', 'начало'), ('ничто', 'это'), ('ничто', 'что'), ('ничто', 'угрожать'), ('ничто', 'видеть'), ('ничто', 'знать')]\n",
      "surface -> [('surface', 'угрожать')]\n",
      "миллион -> [('миллион', 'угрожать')]\n",
      "microsoft -> [('microsoft', 'угрожать')]\n",
      "продажа -> [('продажа', 'продать'), ('продажа', 'упасть'), ('продажа', 'угрожать'), ('продажа', 'вырасти')]\n",
      "месяц -> [('месяц', 'угрожать'), ('месяц', 'произойти')]\n",
      "он -> [('он', 'считать'), ('он', 'оставаться'), ('он', 'озвучивать'), ('он', 'снять'), ('он', 'предоставить'), ('он', 'написать'), ('он', 'опасаться'), ('он', 'уйти'), ('он', 'понимать')]\n",
      "шанс -> [('шанс', 'предоставить')]\n",
      "опыт -> [('опыт', 'предоставить')]\n",
      "я -> [('я', 'посетить'), ('я', 'сталкиваться'), ('я', 'перейти'), ('я', 'озвучивать'), ('я', 'снять'), ('я', 'предоставить'), ('я', 'работать'), ('я', 'пройти'), ('я', 'получить'), ('я', 'полагать'), ('я', 'открыть'), ('я', 'сохранить'), ('я', 'написать'), ('я', 'характеризовать'), ('я', 'представить'), ('я', 'том'), ('я', 'привести'), ('я', 'житель'), ('я', 'включить'), ('я', 'должный')]\n",
      "осветитель -> [('осветитель', 'предоставить')]\n",
      "фильм -> [('фильм', 'предоставить')]\n",
      "результат -> [('результат', 'вызов'), ('результат', 'предоставить'), ('результат', 'оставаться'), ('результат', 'следовать'), ('результат', 'заявлять'), ('результат', 'занимать')]\n",
      "прозвище -> [('прозвище', 'получить')]\n",
      "ус -> [('ус', 'получить')]\n",
      "бигглза -> [('бигглза', 'получить')]\n",
      "мальчишка -> [('мальчишка', 'получить')]\n",
      "анализ -> [('анализ', 'представить')]\n",
      "тема -> [('тема', 'представить'), ('тема', 'описывать'), ('тема', 'слышать')]\n",
      "исследование -> [('исследование', 'представить'), ('исследование', 'привести'), ('исследование', 'рассмотрим'), ('исследование', 'найти'), ('исследование', 'заявить')]\n",
      "журнал -> [('журнал', 'открыть'), ('журнал', 'представить')]\n",
      "которых -> [('которых', 'писать'), ('которых', 'представить')]\n",
      "г -> [('г', 'заявить')]\n",
      "31 -> [('31', 'заявить')]\n",
      "- -> [('-', 'оставаться'), ('-', 'состоять'), ('-', 'заканчивать'), ('-', 'знать'), ('-', 'работать'), ('-', 'заявить'), ('-', 'существовать'), ('-', 'предложить'), ('-', 'переходить'), ('-', 'слышать'), ('-', 'умный')]\n",
      "жа -> [('жа', 'заявить')]\n",
      "мэй -> [('мэй', 'заявить')]\n",
      "переговоры -> [('переговоры', 'заявить')]\n",
      "заседание -> [('заседание', 'заявить')]\n",
      "джонатан -> [('джонатан', 'заявить')]\n",
      "доступ -> [('доступ', 'заявить')]\n",
      "информация -> [('информация', 'заявить')]\n",
      "это -> [('это', 'ничто'), ('это', 'должный'), ('это', 'вызов'), ('это', 'часть'), ('это', 'открыть'), ('это', 'наука'), ('это', 'характеризовать'), ('это', 'описывать'), ('это', 'произойти'), ('это', 'житель'), ('это', 'решительный'), ('это', 'сложиться'), ('это', 'вселять'), ('это', 'значить'), ('это', 'понятный'), ('это', 'вызывать')]\n",
      "мера -> [('мера', 'том'), ('мера', 'произойти')]\n",
      "банк -> [('банк', 'произойти')]\n",
      "выход -> [('выход', 'ожидать'), ('выход', 'произойти'), ('выход', 'видеть')]\n",
      "вероятность -> [('вероятность', 'произойти')]\n",
      "июль -> [('июль', 'вырасти')]\n",
      "% -> [('%', 'упасть'), ('%', 'потерять'), ('%', 'вырасти'), ('%', 'заявлять')]\n",
      "компания -> [('компания', 'стать'), ('компания', 'использовать'), ('компания', 'работать')]\n",
      "технология -> [('технология', 'использовать')]\n",
      "устройство -> [('устройство', 'забыть'), ('устройство', 'быть'), ('устройство', 'использовать')]\n",
      "телефон -> [('телефон', 'использовать')]\n",
      "хофстеде -> [('хофстеде', 'использовать')]\n",
      "термин -> [('термин', 'использовать')]\n",
      "они -> [('они', 'заставлять'), ('они', 'использовать'), ('они', 'решительный'), ('они', 'подчеркнуть')]\n",
      "страх -> [('страх', 'брать')]\n",
      "рабочий -> [('рабочий', 'брать')]\n",
      "начало -> [('начало', 'ничто'), ('начало', 'открыть'), ('начало', 'написать'), ('начало', 'брать')]\n",
      "автоматизация -> [('автоматизация', 'брать')]\n",
      "уровень -> [('уровень', 'стабилизироваться'), ('уровень', 'мочь'), ('уровень', 'брать')]\n",
      "восстание -> [('восстание', 'брать')]\n",
      "музыка -> [('музыка', 'стать')]\n",
      "второй -> [('второй', 'стать')]\n",
      "цена -> [('цена', 'стать'), ('цена', 'являться')]\n",
      "выпуск -> [('выпуск', 'стать')]\n",
      "пользователь -> [('пользователь', 'стать')]\n",
      "$ -> [('$', 'стать')]\n",
      "бизнес -> [('бизнес', 'стать')]\n",
      "большинство -> [('большинство', 'стать'), ('большинство', 'видеть'), ('большинство', 'существовать')]\n",
      "страна -> [('страна', 'состоять'), ('страна', 'стать')]\n",
      "невролог -> [('невролог', 'стать')]\n",
      "попытка -> [('попытка', 'подчеркнуть'), ('попытка', 'стать')]\n",
      "преимущество -> [('преимущество', 'стать'), ('преимущество', 'стоить')]\n",
      "снимок -> [('снимок', 'стать')]\n",
      "связь -> [('связь', 'стать')]\n",
      "оттого -> [('оттого', 'стать')]\n",
      "что -> [('что', 'ничто'), ('что', 'состоять'), ('что', 'рассказать'), ('что', 'сталкиваться'), ('что', 'знать'), ('что', 'часть'), ('что', 'умный'), ('что', 'подчеркнуть'), ('что', 'стать'), ('что', 'подвергать')]\n",
      "чтение -> [('чтение', 'улучшать'), ('чтение', 'рассмотрим'), ('чтение', 'подчеркнуть'), ('чтение', 'стать'), ('чтение', 'понятный')]\n",
      "2014 -> [('2014', 'стать')]\n",
      "перспектива -> [('перспектива', 'казаться'), ('перспектива', 'востребовать')]\n",
      "переходить -> [('переходить', 'немец'), ('переходить', 'дело'), ('переходить', 'его'), ('переходить', '-'), ('переходить', 'представитель'), ('переходить', 'люди'), ('переходить', 'которые'), ('переходить', 'период'), ('переходить', 'следующий')]\n",
      "вы -> [('вы', 'решить'), ('вы', 'работать'), ('вы', 'попасть'), ('вы', 'думать'), ('вы', 'отслеживать'), ('вы', 'ошибка')]\n",
      "выходной -> [('выходной', 'ошибка')]\n",
      "фотография -> [('фотография', 'ошибка')]\n",
      "ключ -> [('ключ', 'ошибка')]\n",
      "открыть -> [('открыть', 'взгляд'), ('открыть', 'работа'), ('открыть', 'я'), ('открыть', 'это'), ('открыть', 'которые'), ('открыть', 'начало'), ('открыть', 'себя'), ('открыть', 'журнал')]\n",
      "мочь -> [('мочь', 'мы'), ('мочь', 'черта'), ('мочь', 'которые'), ('мочь', 'культура'), ('мочь', 'многие'), ('мочь', 'деление'), ('мочь', 'африка'), ('мочь', 'юг'), ('мочь', 'уровень')]\n",
      "привести -> [('привести', 'я'), ('привести', 'точка'), ('привести', 'меня'), ('привести', 'тип'), ('привести', 'исследование'), ('привести', 'группа'), ('привести', 'которые'), ('привести', 'мысль'), ('привести', 'классификация'), ('привести', 'монохронному'), ('привести', 'развитие'), ('привести', 'исчезновение'), ('привести', 'него'), ('привести', 'сфера'), ('привести', 'прогресс'), ('привести', 'профессия'), ('привести', 'отрасль'), ('привести', 'возможность'), ('привести', 'мы'), ('привести', 'время'), ('привести', 'возникновение'), ('привести', 'будущее'), ('привести', 'которым'), ('привести', 'человек')]\n",
      "подчеркнуть -> [('подчеркнуть', 'они'), ('подчеркнуть', 'недоказанность'), ('подчеркнуть', 'воздействие'), ('подчеркнуть', 'попытка'), ('подчеркнуть', 'произведение'), ('подчеркнуть', 'чтение'), ('подчеркнуть', 'которые'), ('подчеркнуть', 'человек'), ('подчеркнуть', 'некоторый'), ('подчеркнуть', 'выявление'), ('подчеркнуть', 'тест'), ('подчеркнуть', 'себя'), ('подчеркнуть', 'что')]\n",
      "утверждать -> [('утверждать', 'половина'), ('утверждать', 'статус'), ('утверждать', 'местоположение'), ('утверждать', 'которые'), ('утверждать', 'услуга')]\n",
      "отслеживать -> [('отслеживать', 'грабитель'), ('отслеживать', 'сеть'), ('отслеживать', 'находиться'), ('отслеживать', 'которую'), ('отслеживать', 'вы'), ('отслеживать', 'пределу'), ('отслеживать', 'мы'), ('отслеживать', 'себя')]\n",
      "занимать -> [('занимать', 'взлом'), ('занимать', 'минута'), ('занимать', 'которое'), ('занимать', 'результат'), ('занимать', 'магазин')]\n",
      "высказывать -> [('высказывать', 'человек'), ('высказывать', 'опасение'), ('высказывать', 'раз')]\n",
      "заявлять -> [('заявлять', '%'), ('заявлять', 'сеть'), ('заявлять', 'преступник'), ('заявлять', 'хозяин'), ('заявлять', 'дом'), ('заявлять', 'результат'), ('заявлять', 'facebook')]\n",
      "написать -> [('написать', 'он'), ('написать', 'взгляд'), ('написать', 'эссе'), ('написать', 'знание'), ('написать', 'я'), ('написать', 'мнение'), ('написать', 'начало'), ('написать', 'наука'), ('написать', 'способ'), ('написать', 'то'), ('написать', 'область')]\n",
      "жизнь -> [('жизнь', 'оставаться'), ('жизнь', 'ничто'), ('жизнь', 'ожидать'), ('жизнь', 'трудный'), ('жизнь', 'озвучивать'), ('жизнь', 'следовать')]\n",
      "земля -> [('земля', 'писать'), ('земля', 'ничто'), ('земля', 'стоить')]\n",
      "видеть -> [('видеть', 'большинство'), ('видеть', 'ничто'), ('видеть', 'выход')]\n",
      "знать -> [('знать', 'мы'), ('знать', 'ответ'), ('знать', '-'), ('знать', 'что'), ('знать', 'роджер'), ('знать', 'учёный'), ('знать', 'эквивалент'), ('знать', 'исследователь'), ('знать', 'измерение'), ('знать', 'она'), ('знать', 'ничто'), ('знать', 'здоровье'), ('знать', 'внешность'), ('знать', 'трудность')]\n",
      "продать -> [('продать', 'продажа'), ('продать', 'день')]\n",
      "упасть -> [('упасть', 'стоимость'), ('упасть', 'продажа'), ('упасть', 'windows'), ('упасть', 'прибыль'), ('упасть', 'поставка'), ('упасть', '%')]\n",
      "считать -> [('считать', 'он'), ('считать', 'вода'), ('считать', 'область')]\n",
      "оставаться -> [('оставаться', 'жизнь'), ('оставаться', 'место'), ('оставаться', 'он'), ('оставаться', '-'), ('оставаться', 'много'), ('оставаться', 'притязание'), ('оставаться', 'результат'), ('оставаться', 'область'), ('оставаться', 'неизведанный')]\n",
      "озвучивать -> [('озвучивать', 'он'), ('озвучивать', 'пожелание'), ('озвучивать', 'идея'), ('озвучивать', 'я'), ('озвучивать', 'жизнь')]\n",
      "снять -> [('снять', 'мы'), ('снять', 'картина'), ('снять', 'я'), ('снять', 'он'), ('снять', 'прошлое'), ('снять', 'работа')]\n",
      "опасаться -> [('опасаться', 'многие'), ('опасаться', 'шаг'), ('опасаться', 'он')]\n",
      "уйти -> [('уйти', 'он'), ('уйти', 'отставка')]\n",
      "понимать -> [('понимать', 'создатель'), ('понимать', 'себя'), ('понимать', 'них'), ('понимать', 'призма'), ('понимать', 'факт'), ('понимать', 'потребитель'), ('понимать', 'новость'), ('понимать', 'человек'), ('понимать', 'он'), ('понимать', 'улица'), ('понимать', 'статья'), ('понимать', 'центр')]\n",
      "посетить -> [('посетить', 'я'), ('посетить', 'боливию'), ('посетить', 'неделя'), ('посетить', 'встреча'), ('посетить', 'рамка')]\n",
      "сталкиваться -> [('сталкиваться', 'я'), ('сталкиваться', 'проект'), ('сталкиваться', 'что')]\n",
      "перейти -> [('перейти', 'я'), ('перейти', 'работа'), ('перейти', 'гравитация'), ('перейти', 'площадка')]\n",
      "работать -> [('работать', 'вы'), ('работать', 'э.'), ('работать', 'кинооператор'), ('работать', 'роджер'), ('работать', '-'), ('работать', 'скважина'), ('работать', 'я'), ('работать', 'которая'), ('работать', 'компания'), ('работать', 'море')]\n",
      "пройти -> [('пройти', 'я'), ('пройти', 'собеседование'), ('пройти', 'работа'), ('пройти', 'бурение')]\n",
      "полагать -> [('полагать', 'я'), ('полагать', 'съёмка'), ('полагать', 'компьютер'), ('полагать', 'затемнение'), ('полагать', 'этап'), ('полагать', 'воссоздание')]\n",
      "сохранить -> [('сохранить', 'я'), ('сохранить', 'желание'), ('сохранить', 'себя'), ('сохранить', 'наука'), ('сохранить', 'аудитория')]\n",
      "характеризовать -> [('характеризовать', 'понятие'), ('характеризовать', 'широта'), ('характеризовать', 'это'), ('характеризовать', 'я'), ('характеризовать', 'которую'), ('характеризовать', 'работа')]\n",
      "том -> [('том', 'рассказать'), ('том', 'контекст'), ('том', 'дарвин'), ('том', 'я'), ('том', 'статья'), ('том', 'особенность'), ('том', 'дело'), ('том', 'мера'), ('том', 'правительство'), ('том', 'прогноз'), ('том', 'случай'), ('том', 'подвергать')]\n",
      "житель -> [('житель', 'это'), ('житель', 'которым'), ('житель', 'протяжение'), ('житель', 'япония'), ('житель', 'я')]\n",
      "включить -> [('включить', 'я'), ('включить', 'категория'), ('включить', 'классификация')]\n",
      "должный -> [('должный', 'мы'), ('должный', 'внимание'), ('должный', 'конец'), ('должный', 'век'), ('должный', 'деколонизация'), ('должный', 'депатриархализации'), ('должный', 'надежда'), ('должный', 'мир'), ('должный', 'роль'), ('должный', 'организация'), ('должный', 'это'), ('должный', 'тот'), ('должный', 'отсутствие'), ('должный', 'кто'), ('должный', 'брексит'), ('должный', 'я'), ('должный', 'поклонник'), ('должный', 'идея')]\n",
      "вызов -> [('вызов', 'это'), ('вызов', 'результат'), ('вызов', 'который'), ('вызов', 'эммануэль'), ('вызов', 'воображение')]\n",
      "следовать -> [('следовать', 'ситуация'), ('следовать', 'другом'), ('следовать', 'предыдущий'), ('следовать', 'результат'), ('следовать', 'итог'), ('следовать', 'доказательство'), ('следовать', 'студент'), ('следовать', 'идея'), ('следовать', 'жизнь'), ('следовать', 'день'), ('следовать', 'изобретение'), ('следовать', 'история')]\n",
      "описывать -> [('описывать', 'тема'), ('описывать', 'то'), ('описывать', 'теория'), ('описывать', 'это'), ('описывать', 'наблюдение'), ('описывать', 'оно'), ('описывать', 'меня'), ('описывать', 'цитата')]\n",
      "слышать -> [('слышать', 'кто'), ('слышать', 'вас'), ('слышать', 'революция'), ('слышать', 'время'), ('слышать', 'тема'), ('слышать', 'котором'), ('слышать', '-'), ('слышать', 'то'), ('слышать', 'учёный')]\n",
      "рассмотрим -> [('рассмотрим', 'статья'), ('рассмотрим', 'исследование'), ('рассмотрим', 'склонность'), ('рассмотрим', 'человек'), ('рассмотрим', 'чтение'), ('рассмотрим', '3'), ('рассмотрим', 'которого'), ('рассмотрим', 'чувство'), ('рассмотрим', 'круг'), ('рассмотрим', 'доказательство')]\n",
      "найти -> [('найти', 'критик'), ('найти', 'время'), ('найти', 'изучение'), ('найти', 'исследование'), ('найти', 'выбор')]\n",
      "писать -> [('писать', 'сэр'), ('писать', 'космос'), ('писать', 'солнце'), ('писать', 'которых'), ('писать', 'земля'), ('писать', 'множество'), ('писать', 'существо'), ('писать', 'кто')]\n",
      "состоять -> [('состоять', 'организация'), ('состоять', 'страна'), ('состоять', 'ее'), ('состоять', 'группа'), ('состоять', 'что'), ('состоять', '-'), ('состоять', 'участница'), ('состоять', 'ступень'), ('состоять', 'работа')]\n",
      "заканчивать -> [('заканчивать', 'группа'), ('заканчивать', 'миссия'), ('заканчивать', 'направление'), ('заканчивать', 'государство'), ('заканчивать', '-'), ('заканчивать', 'члены')]\n",
      "существовать -> [('существовать', 'закон'), ('существовать', 'боливия'), ('существовать', 'культура'), ('существовать', 'мир'), ('существовать', '-'), ('существовать', 'франция'), ('существовать', 'сотня'), ('существовать', 'большинство')]\n",
      "предложить -> [('предложить', 'эдвард'), ('предложить', 'культура'), ('предложить', '-'), ('предложить', 'монохронные'), ('предложить', 'классификация'), ('предложить', 'работа'), ('предложить', 'группа')]\n",
      "умный -> [('умный', 'человек'), ('умный', 'что'), ('умный', '-'), ('умный', 'то'), ('умный', 'участие'), ('умный', 'мы'), ('умный', 'адаптация')]\n",
      "часть -> [('часть', 'это'), ('часть', 'что'), ('часть', 'мы'), ('часть', 'давать')]\n",
      "наука -> [('наука', 'сохранить'), ('наука', 'гулд'), ('наука', 'это'), ('наука', 'котором'), ('наука', 'сочинениях'), ('наука', 'истина'), ('наука', 'открытие'), ('наука', 'написать')]\n",
      "решительный -> [('решительный', 'группа'), ('решительный', 'действие'), ('решительный', 'позиция'), ('решительный', 'они'), ('решительный', 'первый'), ('решительный', 'представитель'), ('решительный', 'это'), ('решительный', 'темп')]\n",
      "сложиться -> [('сложиться', 'восприятие'), ('сложиться', 'это')]\n",
      "вселять -> [('вселять', 'это'), ('вселять', 'уверенность')]\n",
      "значить -> [('значить', 'это'), ('значить', 'состояние'), ('значить', 'эффект'), ('значить', 'активность'), ('значить', 'мы'), ('значить', 'изменение'), ('значить', 'деятельность'), ('значить', 'заголовок'), ('значить', 'день'), ('значить', 'мозг'), ('значить', 'разговор')]\n",
      "понятный -> [('понятный', 'это'), ('понятный', 'мозг'), ('понятный', 'чтение'), ('понятный', 'принятие'), ('понятный', 'неопределённость')]\n",
      "вызывать -> [('вызывать', 'возможность'), ('вызывать', 'чувство'), ('вызывать', 'затемнение'), ('вызывать', 'это'), ('вызывать', 'интерес'), ('вызывать', 'активность'), ('вызывать', 'студент'), ('вызывать', 'толкование'), ('вызывать', 'учёт')]\n",
      "ожидать -> [('ожидать', 'никто'), ('ожидать', 'жизнь'), ('ожидать', 'любой'), ('ожидать', 'время'), ('ожидать', 'выход')]\n",
      "потерять -> [('потерять', 'стерлинг'), ('потерять', 'десятую'), ('потерять', 'индекс'), ('потерять', 'день'), ('потерять', '%')]\n",
      "забыть -> [('забыть', 'многие'), ('забыть', 'устройство'), ('забыть', 'ipad'), ('забыть', 'игрушка')]\n",
      "быть -> [('быть', 'вопрос'), ('быть', 'момент'), ('быть', 'внимание'), ('быть', 'устройство'), ('быть', 'борьба'), ('быть', 'которое')]\n",
      "заставлять -> [('заставлять', 'факт'), ('заставлять', 'кризис'), ('заставлять', 'они'), ('заставлять', 'lehman'), ('заставлять', 'сумма'), ('заставлять', 'сентябрь'), ('заставлять', 'тем')]\n",
      "стабилизироваться -> [('стабилизироваться', 'фунт'), ('стабилизироваться', 'уровень'), ('стабилизироваться', 'индекс')]\n",
      "являться -> [('являться', 'цена'), ('являться', 'борьба'), ('являться', 'итальянец'), ('являться', 'дело'), ('являться', 'спонтанность'), ('являться', 'сосед')]\n",
      "стоить -> [('стоить', 'доказательство'), ('стоить', 'смысл'), ('стоить', 'преимущество'), ('стоить', 'существуют-'), ('стоить', 'причина'), ('стоить', 'всему'), ('стоить', 'земля')]\n",
      "рассказать -> [('рассказать', 'мы'), ('рассказать', 'том'), ('рассказать', 'что'), ('рассказать', 'съёмка'), ('рассказать', 'работа')]\n",
      "подвергать -> [('подвергать', 'мы'), ('подвергать', 'желание'), ('подвергать', 'что'), ('подвергать', 'безопасность'), ('подвергать', 'том')]\n",
      "улучшать -> [('улучшать', 'чтение'), ('улучшать', 'работа')]\n",
      "казаться -> [('казаться', 'положение'), ('казаться', 'перспектива'), ('казаться', 'экономист')]\n",
      "немец -> [('немец', 'переходить')]\n",
      "дело -> [('дело', 'том'), ('дело', 'переходить'), ('дело', 'являться')]\n",
      "представитель -> [('представитель', 'переходить'), ('представитель', 'решительный')]\n",
      "люди -> [('люди', 'переходить')]\n",
      "период -> [('период', 'переходить')]\n",
      "следующий -> [('следующий', 'переходить')]\n",
      "решить -> [('решить', 'вы'), ('решить', 'окончание')]\n",
      "попасть -> [('попасть', 'вы'), ('попасть', 'киноиндустрия')]\n",
      "думать -> [('думать', 'вы'), ('думать', 'работа'), ('думать', 'момент'), ('думать', 'карьера')]\n",
      "взгляд -> [('взгляд', 'открыть'), ('взгляд', 'написать')]\n",
      "работа -> [('работа', 'рассказать'), ('работа', 'состоять'), ('работа', 'перейти'), ('работа', 'снять'), ('работа', 'пройти'), ('работа', 'думать'), ('работа', 'открыть'), ('работа', 'характеризовать'), ('работа', 'проделать'), ('работа', 'предложить'), ('работа', 'вопрос'), ('работа', 'улучшать')]\n",
      "себя -> [('себя', 'открыть'), ('себя', 'сохранить'), ('себя', 'понимать'), ('себя', 'подчеркнуть'), ('себя', 'отслеживать')]\n",
      "мы -> [('мы', 'один'), ('мы', 'знать'), ('мы', 'достигнуть'), ('мы', 'должный'), ('мы', 'привыкнуть'), ('мы', 'рассказать'), ('мы', 'получать'), ('мы', 'проводить'), ('мы', 'снять'), ('мы', 'часть'), ('мы', 'говорить'), ('мы', 'мочь'), ('мы', 'привести'), ('мы', 'умный'), ('мы', 'значить'), ('мы', 'отслеживать'), ('мы', 'подвергать')]\n",
      "черта -> [('черта', 'мочь')]\n",
      "культура -> [('культура', 'существовать'), ('культура', 'говорить'), ('культура', 'мочь'), ('культура', 'проделать'), ('культура', 'предложить')]\n",
      "многие -> [('многие', 'заполнить'), ('многие', 'забыть'), ('многие', 'отмечать'), ('многие', 'показывать'), ('многие', 'опасаться'), ('многие', 'мочь')]\n",
      "деление -> [('деление', 'мочь')]\n",
      "африка -> [('африка', 'мочь')]\n",
      "юг -> [('юг', 'мочь')]\n",
      "точка -> [('точка', 'привести')]\n",
      "меня -> [('меня', 'описывать'), ('меня', 'привести')]\n",
      "тип -> [('тип', 'привести')]\n",
      "группа -> [('группа', 'состоять'), ('группа', 'заканчивать'), ('группа', 'предложить'), ('группа', 'привести'), ('группа', 'решительный')]\n",
      "мысль -> [('мысль', 'привести')]\n",
      "классификация -> [('классификация', 'предложить'), ('классификация', 'привести'), ('классификация', 'включить')]\n",
      "монохронному -> [('монохронному', 'привести')]\n",
      "развитие -> [('развитие', 'меняться'), ('развитие', 'сделать'), ('развитие', 'привести')]\n",
      "исчезновение -> [('исчезновение', 'привести')]\n",
      "него -> [('него', 'привести')]\n",
      "сфера -> [('сфера', 'привести')]\n",
      "прогресс -> [('прогресс', 'привести')]\n",
      "профессия -> [('профессия', 'привести'), ('профессия', 'оказываться')]\n",
      "отрасль -> [('отрасль', 'привести')]\n",
      "возможность -> [('возможность', 'вызывать'), ('возможность', 'привести')]\n",
      "время -> [('время', 'состояться'), ('время', 'ожидать'), ('время', 'слышать'), ('время', 'привести'), ('время', 'найти')]\n",
      "возникновение -> [('возникновение', 'привести')]\n",
      "будущее -> [('будущее', 'вопрос'), ('будущее', 'привести'), ('будущее', 'давать')]\n",
      "которым -> [('которым', 'житель'), ('которым', 'привести')]\n",
      "человек -> [('человек', 'понимать'), ('человек', 'высказывать'), ('человек', 'бить'), ('человек', 'привести'), ('человек', 'умный'), ('человек', 'рассмотрим'), ('человек', 'сказать'), ('человек', 'подчеркнуть')]\n",
      "недоказанность -> [('недоказанность', 'подчеркнуть')]\n",
      "воздействие -> [('воздействие', 'подчеркнуть')]\n",
      "произведение -> [('произведение', 'подчеркнуть')]\n",
      "некоторый -> [('некоторый', 'показывать'), ('некоторый', 'подчеркнуть')]\n",
      "выявление -> [('выявление', 'подчеркнуть')]\n",
      "тест -> [('тест', 'проводить'), ('тест', 'подчеркнуть')]\n",
      "половина -> [('половина', 'утверждать')]\n",
      "статус -> [('статус', 'утверждать')]\n",
      "местоположение -> [('местоположение', 'утверждать')]\n",
      "услуга -> [('услуга', 'утверждать')]\n",
      "сеть -> [('сеть', 'отслеживать'), ('сеть', 'заявлять')]\n",
      "находиться -> [('находиться', 'отслеживать')]\n",
      "которую -> [('которую', 'оснастить'), ('которую', 'характеризовать'), ('которую', 'отслеживать')]\n",
      "пределу -> [('пределу', 'отслеживать')]\n",
      "минута -> [('минута', 'занимать')]\n",
      "которое -> [('которое', 'быть'), ('которое', 'дать'), ('которое', 'занимать')]\n",
      "магазин -> [('магазин', 'занимать')]\n",
      "опасение -> [('опасение', 'высказывать')]\n",
      "преступник -> [('преступник', 'заявлять')]\n",
      "хозяин -> [('хозяин', 'заявлять')]\n",
      "facebook -> [('facebook', 'заявлять')]\n",
      "эссе -> [('эссе', 'написать')]\n",
      "знание -> [('знание', 'написать')]\n",
      "способ -> [('способ', 'написать')]\n",
      "то -> [('то', 'написать'), ('то', 'описывать'), ('то', 'слышать'), ('то', 'умный')]\n",
      "область -> [('область', 'считать'), ('область', 'написать'), ('область', 'оставаться')]\n",
      "трудный -> [('трудный', 'компьютер'), ('трудный', 'срок'), ('трудный', 'жизнь')]\n",
      "ответ -> [('ответ', 'знать')]\n",
      "роджер -> [('роджер', 'работать'), ('роджер', 'знать')]\n",
      "учёный -> [('учёный', 'слышать'), ('учёный', 'знать')]\n",
      "эквивалент -> [('эквивалент', 'знать')]\n",
      "исследователь -> [('исследователь', 'дать'), ('исследователь', 'знать')]\n",
      "измерение -> [('измерение', 'знать')]\n",
      "она -> [('она', 'бить'), ('она', 'знать')]\n",
      "здоровье -> [('здоровье', 'знать')]\n",
      "внешность -> [('внешность', 'знать')]\n",
      "трудность -> [('трудность', 'знать')]\n",
      "день -> [('день', 'продать'), ('день', 'измениться'), ('день', 'отмечать'), ('день', 'потерять'), ('день', 'значить'), ('день', 'следовать')]\n",
      "стоимость -> [('стоимость', 'упасть')]\n",
      "windows -> [('windows', 'упасть')]\n",
      "прибыль -> [('прибыль', 'упасть')]\n",
      "поставка -> [('поставка', 'упасть')]\n",
      "вода -> [('вода', 'считать')]\n",
      "место -> [('место', 'оставаться'), ('место', 'состояться')]\n",
      "много -> [('много', 'оставаться')]\n",
      "притязание -> [('притязание', 'оставаться')]\n",
      "неизведанный -> [('неизведанный', 'оставаться')]\n",
      "пожелание -> [('пожелание', 'озвучивать')]\n",
      "идея -> [('идея', 'пропагандировать'), ('идея', 'проводить'), ('идея', 'озвучивать'), ('идея', 'должный'), ('идея', 'следовать')]\n",
      "картина -> [('картина', 'отмечать'), ('картина', 'снять')]\n",
      "прошлое -> [('прошлое', 'снять')]\n",
      "шаг -> [('шаг', 'опасаться')]\n",
      "отставка -> [('отставка', 'уйти')]\n",
      "создатель -> [('создатель', 'понимать')]\n",
      "них -> [('них', 'понимать')]\n",
      "призма -> [('призма', 'понимать')]\n",
      "факт -> [('факт', 'понимать'), ('факт', 'заставлять')]\n",
      "потребитель -> [('потребитель', 'понимать')]\n",
      "новость -> [('новость', 'понимать')]\n",
      "улица -> [('улица', 'понимать')]\n",
      "статья -> [('статья', 'том'), ('статья', 'понимать'), ('статья', 'рассмотрим')]\n",
      "центр -> [('центр', 'понимать')]\n",
      "боливию -> [('боливию', 'посетить'), ('боливию', 'сделать')]\n",
      "неделя -> [('неделя', 'посетить')]\n",
      "встреча -> [('встреча', 'посетить'), ('встреча', 'присутствовать'), ('встреча', 'состояться')]\n",
      "рамка -> [('рамка', 'посетить')]\n",
      "проект -> [('проект', 'отмечать'), ('проект', 'сталкиваться')]\n",
      "гравитация -> [('гравитация', 'перейти')]\n",
      "площадка -> [('площадка', 'перейти')]\n",
      "э. -> [('э.', 'работать')]\n",
      "кинооператор -> [('кинооператор', 'работать')]\n",
      "скважина -> [('скважина', 'работать')]\n",
      "которая -> [('которая', 'работать')]\n",
      "море -> [('море', 'работать')]\n",
      "собеседование -> [('собеседование', 'пройти')]\n",
      "бурение -> [('бурение', 'пройти')]\n",
      "съёмка -> [('съёмка', 'рассказать'), ('съёмка', 'полагать')]\n",
      "компьютер -> [('компьютер', 'трудный'), ('компьютер', 'полагать')]\n",
      "затемнение -> [('затемнение', 'вызывать'), ('затемнение', 'полагать')]\n",
      "этап -> [('этап', 'полагать')]\n",
      "воссоздание -> [('воссоздание', 'полагать')]\n",
      "желание -> [('желание', 'сохранить'), ('желание', 'подвергать')]\n",
      "аудитория -> [('аудитория', 'сохранить')]\n",
      "понятие -> [('понятие', 'характеризовать')]\n",
      "широта -> [('широта', 'характеризовать')]\n",
      "контекст -> [('контекст', 'том')]\n",
      "дарвин -> [('дарвин', 'том')]\n",
      "особенность -> [('особенность', 'том')]\n",
      "правительство -> [('правительство', 'том'), ('правительство', 'заверить')]\n",
      "прогноз -> [('прогноз', 'оправдаться'), ('прогноз', 'том')]\n",
      "случай -> [('случай', 'встретиться'), ('случай', 'том'), ('случай', 'давать'), ('случай', 'идти'), ('случай', 'дать')]\n",
      "протяжение -> [('протяжение', 'житель')]\n",
      "япония -> [('япония', 'житель')]\n",
      "категория -> [('категория', 'включить')]\n",
      "внимание -> [('внимание', 'быть'), ('внимание', 'должный')]\n",
      "конец -> [('конец', 'встретиться'), ('конец', 'должный'), ('конец', 'ознаменовал'), ('конец', 'измениться')]\n",
      "век -> [('век', 'должный'), ('век', 'ознаменовал')]\n",
      "деколонизация -> [('деколонизация', 'встретиться'), ('деколонизация', 'должный')]\n",
      "депатриархализации -> [('депатриархализации', 'должный')]\n",
      "надежда -> [('надежда', 'должный')]\n",
      "мир -> [('мир', 'должный'), ('мир', 'существовать')]\n",
      "роль -> [('роль', 'должный')]\n",
      "организация -> [('организация', 'состоять'), ('организация', 'должный')]\n",
      "тот -> [('тот', 'должный')]\n",
      "отсутствие -> [('отсутствие', 'должный')]\n",
      "кто -> [('кто', 'писать'), ('кто', 'должный'), ('кто', 'слышать'), ('кто', 'сказать')]\n",
      "брексит -> [('брексит', 'должный')]\n",
      "поклонник -> [('поклонник', 'должный')]\n",
      "который -> [('который', 'возникнуть'), ('который', 'получать'), ('который', 'вызов')]\n",
      "эммануэль -> [('эммануэль', 'вызов')]\n",
      "воображение -> [('воображение', 'вызов')]\n",
      "ситуация -> [('ситуация', 'измениться'), ('ситуация', 'следовать')]\n",
      "другом -> [('другом', 'следовать')]\n",
      "предыдущий -> [('предыдущий', 'следовать')]\n",
      "итог -> [('итог', 'получать'), ('итог', 'следовать')]\n",
      "доказательство -> [('доказательство', 'рассмотрим'), ('доказательство', 'стоить'), ('доказательство', 'следовать')]\n",
      "студент -> [('студент', 'вызывать'), ('студент', 'следовать')]\n",
      "изобретение -> [('изобретение', 'следовать')]\n",
      "история -> [('история', 'следовать')]\n",
      "теория -> [('теория', 'описывать')]\n",
      "наблюдение -> [('наблюдение', 'описывать')]\n",
      "оно -> [('оно', 'описывать')]\n",
      "цитата -> [('цитата', 'описывать')]\n",
      "вас -> [('вас', 'слышать')]\n",
      "революция -> [('революция', 'слышать')]\n",
      "котором -> [('котором', 'наука'), ('котором', 'слышать')]\n",
      "склонность -> [('склонность', 'рассмотрим')]\n",
      "3 -> [('3', 'рассмотрим')]\n",
      "которого -> [('которого', 'рассмотрим')]\n",
      "чувство -> [('чувство', 'вызывать'), ('чувство', 'рассмотрим'), ('чувство', 'сказать')]\n",
      "круг -> [('круг', 'оправдаться'), ('круг', 'рассмотрим')]\n",
      "критик -> [('критик', 'найти')]\n",
      "изучение -> [('изучение', 'построить'), ('изучение', 'найти')]\n",
      "выбор -> [('выбор', 'оставить'), ('выбор', 'найти')]\n",
      "сэр -> [('сэр', 'писать')]\n",
      "космос -> [('космос', 'писать')]\n",
      "солнце -> [('солнце', 'писать')]\n",
      "множество -> [('множество', 'писать')]\n",
      "существо -> [('существо', 'писать')]\n",
      "ее -> [('ее', 'состоять')]\n",
      "участница -> [('участница', 'состоять')]\n",
      "ступень -> [('ступень', 'состоять')]\n",
      "миссия -> [('миссия', 'заканчивать')]\n",
      "направление -> [('направление', 'заканчивать')]\n",
      "государство -> [('государство', 'заканчивать')]\n",
      "члены -> [('члены', 'заканчивать')]\n",
      "закон -> [('закон', 'существовать')]\n",
      "боливия -> [('боливия', 'встретиться'), ('боливия', 'существовать')]\n",
      "франция -> [('франция', 'существовать')]\n",
      "сотня -> [('сотня', 'существовать')]\n",
      "эдвард -> [('эдвард', 'проделать'), ('эдвард', 'предложить')]\n",
      "монохронные -> [('монохронные', 'предложить')]\n",
      "участие -> [('участие', 'умный')]\n",
      "адаптация -> [('адаптация', 'умный')]\n",
      "давать -> [('давать', 'дэвид'), ('давать', 'процесс'), ('давать', 'британия'), ('давать', 'референдум'), ('давать', 'случай'), ('давать', 'часть'), ('давать', 'вопрос'), ('давать', 'будущее'), ('давать', 'лошадь')]\n",
      "гулд -> [('гулд', 'наука')]\n",
      "сочинениях -> [('сочинениях', 'наука')]\n",
      "истина -> [('истина', 'наука')]\n",
      "открытие -> [('открытие', 'наука')]\n",
      "действие -> [('действие', 'решительный')]\n",
      "позиция -> [('позиция', 'решительный')]\n",
      "первый -> [('первый', 'ощутить'), ('первый', 'решительный')]\n",
      "темп -> [('темп', 'решительный')]\n",
      "восприятие -> [('восприятие', 'сложиться')]\n",
      "уверенность -> [('уверенность', 'вселять')]\n",
      "состояние -> [('состояние', 'значить')]\n",
      "эффект -> [('эффект', 'значить')]\n",
      "активность -> [('активность', 'значить'), ('активность', 'вызывать')]\n",
      "изменение -> [('изменение', 'значить')]\n",
      "деятельность -> [('деятельность', 'значить')]\n",
      "заголовок -> [('заголовок', 'значить')]\n",
      "мозг -> [('мозг', 'значить'), ('мозг', 'понятный')]\n",
      "разговор -> [('разговор', 'отмечать'), ('разговор', 'значить')]\n",
      "принятие -> [('принятие', 'сделать'), ('принятие', 'понятный')]\n",
      "неопределённость -> [('неопределённость', 'понятный')]\n",
      "интерес -> [('интерес', 'вызывать')]\n",
      "толкование -> [('толкование', 'дать'), ('толкование', 'вызывать')]\n",
      "учёт -> [('учёт', 'вызывать')]\n",
      "никто -> [('никто', 'ожидать')]\n",
      "любой -> [('любой', 'ожидать')]\n",
      "стерлинг -> [('стерлинг', 'потерять')]\n",
      "десятую -> [('десятую', 'потерять')]\n",
      "индекс -> [('индекс', 'потерять'), ('индекс', 'стабилизироваться')]\n",
      "ipad -> [('ipad', 'забыть')]\n",
      "игрушка -> [('игрушка', 'забыть')]\n",
      "вопрос -> [('вопрос', 'быть'), ('вопрос', 'мартин'), ('вопрос', 'деньга'), ('вопрос', 'работа'), ('вопрос', 'нас'), ('вопрос', 'всех'), ('вопрос', 'будущее'), ('вопрос', 'иметь'), ('вопрос', 'вопрос'), ('вопрос', 'сделать'), ('вопрос', 'давать')]\n",
      "момент -> [('момент', 'быть'), ('момент', 'думать')]\n",
      "борьба -> [('борьба', 'пережить'), ('борьба', 'привыкнуть'), ('борьба', 'быть'), ('борьба', 'являться')]\n",
      "кризис -> [('кризис', 'заставлять')]\n",
      "lehman -> [('lehman', 'заставлять')]\n",
      "сумма -> [('сумма', 'заставлять')]\n",
      "сентябрь -> [('сентябрь', 'заставлять')]\n",
      "тем -> [('тем', 'заставлять')]\n",
      "фунт -> [('фунт', 'стабилизироваться')]\n",
      "итальянец -> [('итальянец', 'являться')]\n",
      "спонтанность -> [('спонтанность', 'являться')]\n",
      "сосед -> [('сосед', 'являться')]\n",
      "смысл -> [('смысл', 'стоить')]\n",
      "существуют- -> [('существуют-', 'стоить')]\n",
      "причина -> [('причина', 'стоить')]\n",
      "всему -> [('всему', 'стоить')]\n",
      "безопасность -> [('безопасность', 'подвергать')]\n",
      "положение -> [('положение', 'казаться')]\n",
      "экономист -> [('экономист', 'казаться')]\n",
      "окончание -> [('окончание', 'решить')]\n",
      "киноиндустрия -> [('киноиндустрия', 'попасть')]\n",
      "карьера -> [('карьера', 'думать')]\n",
      "проделать -> [('проделать', 'эксперт'), ('проделать', 'работа'), ('проделать', 'культура'), ('проделать', 'эдвард'), ('проделать', 'облегчение')]\n",
      "один -> [('один', 'мы'), ('один', 'вселенная')]\n",
      "достигнуть -> [('достигнуть', 'мы'), ('достигнуть', 'проблема'), ('достигнуть', 'пора')]\n",
      "привыкнуть -> [('привыкнуть', 'мы'), ('привыкнуть', 'борьба'), ('привыкнуть', 'характеристика')]\n",
      "получать -> [('получать', 'мы'), ('получать', 'свет'), ('получать', 'который'), ('получать', 'итог'), ('получать', 'имитация')]\n",
      "проводить -> [('проводить', 'мы'), ('проводить', 'тест'), ('проводить', 'идея'), ('проводить', 'нас')]\n",
      "говорить -> [('говорить', 'мы'), ('говорить', 'культура'), ('говорить', 'и')]\n",
      "заполнить -> [('заполнить', 'более'), ('заполнить', 'зал'), ('заполнить', 'многие'), ('заполнить', 'женщина')]\n",
      "отмечать -> [('отмечать', 'многие'), ('отмечать', 'разговор'), ('отмечать', 'день'), ('отмечать', 'картина'), ('отмечать', 'проект')]\n",
      "показывать -> [('показывать', 'опрос'), ('показывать', 'последствие'), ('показывать', 'признак'), ('показывать', 'многие'), ('показывать', 'аналитик'), ('показывать', 'некоторый'), ('показывать', 'решение'), ('показывать', 'того')]\n",
      "меняться -> [('меняться', 'процесс'), ('меняться', 'развитие')]\n",
      "сделать -> [('сделать', 'принятие'), ('сделать', 'боливию'), ('сделать', 'развитие'), ('сделать', 'вопрос')]\n",
      "оказываться -> [('оказываться', 'профессия'), ('оказываться', 'целое'), ('оказываться', 'старый')]\n",
      "состояться -> [('состояться', 'встреча'), ('состояться', 'время'), ('состояться', 'место')]\n",
      "бить -> [('бить', 'человек'), ('бить', 'тревога'), ('бить', 'она'), ('бить', 'ложный')]\n",
      "сказать -> [('сказать', 'кто'), ('сказать', 'остальных'), ('сказать', 'человек'), ('сказать', 'чувство')]\n",
      "оснастить -> [('оснастить', 'оператор'), ('оснастить', 'камера'), ('оснастить', 'которую')]\n",
      "дать -> [('дать', 'исследователь'), ('дать', 'толкование'), ('дать', 'которое'), ('дать', 'случай'), ('дать', 'осведомлённость')]\n",
      "срок -> [('срок', 'трудный')]\n",
      "измениться -> [('измениться', 'ситуация'), ('измениться', 'день'), ('измениться', 'конец')]\n",
      "пропагандировать -> [('пропагандировать', 'уэллса'), ('пропагандировать', 'идея')]\n",
      "присутствовать -> [('присутствовать', 'эво'), ('присутствовать', 'встреча')]\n",
      "заверить -> [('заверить', 'тереза'), ('заверить', 'правительство'), ('заверить', 'политика')]\n",
      "оправдаться -> [('оправдаться', 'прогноз'), ('оправдаться', 'круг'), ('оправдаться', 'apple'), ('оправдаться', 'новинка')]\n",
      "встретиться -> [('встретиться', 'глава'), ('встретиться', 'деколонизация'), ('встретиться', '9'), ('встретиться', 'конец'), ('встретиться', 'боливия'), ('встретиться', 'случай')]\n",
      "идти -> [('идти', 'речь'), ('идти', 'случай'), ('идти', 'лошадях')]\n",
      "ознаменовал -> [('ознаменовал', 'век'), ('ознаменовал', 'конец')]\n",
      "возникнуть -> [('возникнуть', 'который'), ('возникнуть', 'континент'), ('возникнуть', 'пропаганда'), ('возникнуть', 'движение')]\n",
      "построить -> [('построить', 'персиваль'), ('построить', 'обсерватория'), ('построить', 'изучение')]\n",
      "оставить -> [('оставить', 'лошади'), ('оставить', 'выбор'), ('оставить', 'создание')]\n",
      "дэвид -> [('дэвид', 'давать')]\n",
      "процесс -> [('процесс', 'меняться'), ('процесс', 'давать')]\n",
      "британия -> [('британия', 'давать')]\n",
      "референдум -> [('референдум', 'давать')]\n",
      "лошадь -> [('лошадь', 'давать')]\n",
      "ощутить -> [('ощутить', 'последствие'), ('ощутить', 'рынок'), ('ощутить', 'первый'), ('ощутить', '23'), ('ощутить', 'великобритания')]\n",
      "мартин -> [('мартин', 'вопрос')]\n",
      "деньга -> [('деньга', 'вопрос')]\n",
      "нас -> [('нас', 'проводить'), ('нас', 'вопрос')]\n",
      "всех -> [('всех', 'вопрос')]\n",
      "иметь -> [('иметь', 'вопрос')]\n",
      "пережить -> [('пережить', 'америка'), ('пережить', 'борьба')]\n",
      "эксперт -> [('эксперт', 'проделать')]\n",
      "облегчение -> [('облегчение', 'проделать')]\n",
      "вселенная -> [('вселенная', 'один')]\n",
      "проблема -> [('проблема', 'достигнуть')]\n",
      "пора -> [('пора', 'достигнуть')]\n",
      "характеристика -> [('характеристика', 'привыкнуть')]\n",
      "свет -> [('свет', 'получать')]\n",
      "имитация -> [('имитация', 'получать')]\n",
      "и -> [('и', 'говорить')]\n",
      "более -> [('более', 'заполнить')]\n",
      "зал -> [('зал', 'заполнить')]\n",
      "женщина -> [('женщина', 'заполнить')]\n",
      "опрос -> [('опрос', 'показывать')]\n",
      "последствие -> [('последствие', 'ощутить'), ('последствие', 'показывать')]\n",
      "признак -> [('признак', 'показывать')]\n",
      "аналитик -> [('аналитик', 'показывать')]\n",
      "решение -> [('решение', 'уверены'), ('решение', 'показывать')]\n",
      "того -> [('того', 'показывать')]\n",
      "целое -> [('целое', 'оказываться')]\n",
      "старый -> [('старый', 'оказываться')]\n",
      "тревога -> [('тревога', 'бить')]\n",
      "ложный -> [('ложный', 'бить')]\n",
      "остальных -> [('остальных', 'сказать')]\n",
      "оператор -> [('оператор', 'оснастить')]\n",
      "камера -> [('камера', 'оснастить')]\n",
      "осведомлённость -> [('осведомлённость', 'дать')]\n",
      "уэллса -> [('уэллса', 'пропагандировать')]\n",
      "эво -> [('эво', 'присутствовать')]\n",
      "тереза -> [('тереза', 'заверить')]\n",
      "политика -> [('политика', 'заверить')]\n",
      "apple -> [('apple', 'оправдаться'), ('apple', 'смочь')]\n",
      "новинка -> [('новинка', 'оправдаться')]\n",
      "глава -> [('глава', 'встретиться')]\n",
      "9 -> [('9', 'встретиться')]\n",
      "речь -> [('речь', 'идти')]\n",
      "лошадях -> [('лошадях', 'идти')]\n",
      "континент -> [('континент', 'возникнуть')]\n",
      "пропаганда -> [('пропаганда', 'возникнуть')]\n",
      "движение -> [('движение', 'возникнуть')]\n",
      "персиваль -> [('персиваль', 'построить')]\n",
      "обсерватория -> [('обсерватория', 'построить')]\n",
      "лошади -> [('лошади', 'оставить')]\n",
      "создание -> [('создание', 'оставить')]\n",
      "рынок -> [('рынок', 'ощутить')]\n",
      "23 -> [('23', 'ощутить')]\n",
      "великобритания -> [('великобритания', 'ощутить')]\n",
      "америка -> [('америка', 'пережить')]\n",
      "уверены -> [('уверены', 'противник'), ('уверены', 'решение'), ('уверены', 'оппонент')]\n",
      "смочь -> [('смочь', 'продукт'), ('смочь', 'apple')]\n",
      "противник -> [('противник', 'уверены')]\n",
      "оппонент -> [('оппонент', 'уверены')]\n",
      "продукт -> [('продукт', 'смочь')]\n"
     ]
    }
   ],
   "source": [
    "print_adjacent_nodes('заткнуть')"
   ],
   "metadata": {
    "collapsed": false,
    "pycharm": {
     "name": "#%%\n"
    }
   }
  },
  {
   "cell_type": "code",
   "execution_count": 118,
   "outputs": [
    {
     "data": {
      "text/plain": "[('мы', 'один', 'вселенная'),\n ('сэр', 'писать', 'космос'),\n ('сэр', 'писать', 'солнце'),\n ('сэр', 'писать', 'которых'),\n ('сэр', 'писать', 'земля'),\n ('множество', 'писать', 'космос'),\n ('множество', 'писать', 'солнце'),\n ('множество', 'писать', 'которых'),\n ('множество', 'писать', 'земля'),\n ('существо', 'писать', 'космос'),\n ('существо', 'писать', 'солнце'),\n ('существо', 'писать', 'которых'),\n ('существо', 'писать', 'земля'),\n ('кто', 'писать', 'космос'),\n ('кто', 'писать', 'солнце'),\n ('кто', 'писать', 'которых'),\n ('кто', 'писать', 'земля'),\n ('уэллса', 'пропагандировать', 'идея'),\n ('персиваль', 'построить', 'обсерватория'),\n ('персиваль', 'построить', 'изучение'),\n ('он', 'считать', 'вода'),\n ('он', 'считать', 'область'),\n ('жизнь', 'оставаться', 'место'),\n ('он', 'оставаться', 'место'),\n ('-', 'оставаться', 'место'),\n ('мы', 'знать', 'ответ'),\n ('жизнь', 'ничто', 'земля'),\n ('жизнь', 'ничто', 'начало'),\n ('это', 'ничто', 'земля'),\n ('это', 'ничто', 'начало'),\n ('что', 'ничто', 'земля'),\n ('что', 'ничто', 'начало'),\n ('марсиан', 'нет', 'марс'),\n ('никто', 'ожидать', 'жизнь'),\n ('никто', 'ожидать', 'любой'),\n ('астроном', 'обнаружить', 'окружение'),\n ('звезда', 'обнаружить', 'окружение'),\n ('астроном', 'обнаружить', 'год'),\n ('звезда', 'обнаружить', 'год'),\n ('глава', 'встретиться', 'деколонизация'),\n ('глава', 'встретиться', '9'),\n ('глава', 'встретиться', 'конец'),\n ('глава', 'встретиться', 'боливия'),\n ('глава', 'встретиться', 'случай'),\n ('организация', 'состоять', 'страна'),\n ('организация', 'состоять', 'ее'),\n ('группа', 'состоять', 'страна'),\n ('группа', 'состоять', 'ее'),\n ('что', 'состоять', 'страна'),\n ('что', 'состоять', 'ее'),\n ('организация', 'состоять', 'страна'),\n ('организация', 'состоять', '-'),\n ('организация', 'состоять', 'участница'),\n ('группа', 'состоять', 'страна'),\n ('группа', 'состоять', '-'),\n ('группа', 'состоять', 'участница'),\n ('что', 'состоять', 'страна'),\n ('что', 'состоять', '-'),\n ('что', 'состоять', 'участница'),\n ('вопрос', 'быть', 'момент'),\n ('внимание', 'быть', 'момент'),\n ('мы', 'достигнуть', 'проблема'),\n ('мы', 'достигнуть', 'пора'),\n ('я', 'посетить', 'боливию'),\n ('я', 'посетить', 'неделя'),\n ('я', 'посетить', 'встреча'),\n ('я', 'посетить', 'рамка'),\n ('более', 'заполнить', 'зал'),\n ('многие', 'заполнить', 'зал'),\n ('более', 'заполнить', 'женщина'),\n ('многие', 'заполнить', 'женщина'),\n ('эво', 'присутствовать', 'встреча'),\n ('мы', 'должный', 'внимание'),\n ('конец', 'должный', 'внимание'),\n ('мы', 'должный', 'внимание'),\n ('мы', 'должный', 'век'),\n ('конец', 'должный', 'век'),\n ('мы', 'должный', 'век'),\n ('век', 'ознаменовал', 'конец'),\n ('мы', 'должный', 'конец'),\n ('мы', 'должный', 'век'),\n ('мы', 'должный', 'деколонизация'),\n ('мы', 'должный', 'депатриархализации'),\n ('встреча', 'состояться', 'время'),\n ('встреча', 'состояться', 'место'),\n ('америка', 'пережить', 'борьба'),\n ('который', 'возникнуть', 'континент'),\n ('который', 'возникнуть', 'пропаганда'),\n ('движение', 'возникнуть', 'континент'),\n ('движение', 'возникнуть', 'пропаганда'),\n ('закон', 'существовать', 'боливия'),\n ('принятие', 'сделать', 'боливию'),\n ('надежда', 'должный', 'мир'),\n ('надежда', 'должный', 'роль'),\n ('организация', 'должный', 'мир'),\n ('организация', 'должный', 'роль'),\n ('надежда', 'должный', 'это'),\n ('организация', 'должный', 'это'),\n ('разработка', 'приближаться', 'год'),\n ('разработка', 'приближаться', 'завершение'),\n ('группа', 'заканчивать', 'миссия'),\n ('группа', 'заканчивать', 'направление'),\n ('государство', 'заканчивать', 'миссия'),\n ('государство', 'заканчивать', 'направление'),\n ('-', 'заканчивать', 'миссия'),\n ('-', 'заканчивать', 'направление'),\n ('члены', 'заканчивать', 'миссия'),\n ('члены', 'заканчивать', 'направление'),\n ('samsung', 'заткнуть', 'пояс'),\n ('samsung', 'заткнуть', '4'),\n ('samsung', 'заткнуть', 'год'),\n ('samsung', 'заткнуть', 'появление'),\n ('компьютер', 'трудный', 'срок'),\n ('компьютер', 'трудный', 'жизнь'),\n ('многие', 'забыть', 'устройство'),\n ('ipad', 'забыть', 'устройство'),\n ('многие', 'забыть', 'игрушка'),\n ('ipad', 'забыть', 'игрушка'),\n ('прогноз', 'оправдаться', 'круг'),\n ('apple', 'оправдаться', 'круг'),\n ('прогноз', 'оправдаться', 'новинка'),\n ('apple', 'оправдаться', 'новинка'),\n ('продажа', 'продать', 'день'),\n ('компания', 'стать', 'музыка'),\n ('компания', 'стать', 'второй'),\n ('цена', 'стать', 'музыка'),\n ('цена', 'стать', 'второй'),\n ('компания', 'стать', 'выпуск'),\n ('компания', 'стать', 'пользователь'),\n ('компания', 'стать', '$'),\n ('цена', 'стать', 'выпуск'),\n ('цена', 'стать', 'пользователь'),\n ('цена', 'стать', '$'),\n ('ситуация', 'измениться', 'день'),\n ('стоимость', 'упасть', 'продажа'),\n ('стоимость', 'упасть', 'windows'),\n ('стоимость', 'упасть', 'прибыль'),\n ('стоимость', 'упасть', 'поставка'),\n ('стоимость', 'упасть', '%'),\n ('мы', 'привыкнуть', 'борьба'),\n ('характеристика', 'привыкнуть', 'борьба'),\n ('ничто', 'угрожать', 'surface'),\n ('ничто', 'угрожать', 'миллион'),\n ('microsoft', 'угрожать', 'surface'),\n ('microsoft', 'угрожать', 'миллион'),\n ('ничто', 'угрожать', 'год'),\n ('ничто', 'угрожать', 'продажа'),\n ('ничто', 'угрожать', 'месяц'),\n ('microsoft', 'угрожать', 'год'),\n ('microsoft', 'угрожать', 'продажа'),\n ('microsoft', 'угрожать', 'месяц'),\n ('устройство', 'быть', 'борьба'),\n ('которое', 'быть', 'борьба'),\n ('компания', 'использовать', 'технология'),\n ('компания', 'использовать', 'устройство'),\n ('компания', 'использовать', 'телефон'),\n ('продукт', 'смочь', 'apple'),\n ('цена', 'являться', 'борьба'),\n ('мы', 'рассказать', 'том'),\n ('мы', 'рассказать', 'что'),\n ('съёмка', 'рассказать', 'том'),\n ('съёмка', 'рассказать', 'что'),\n ('работа', 'рассказать', 'том'),\n ('работа', 'рассказать', 'что'),\n ('-', 'состоять', 'ступень'),\n ('работа', 'состоять', 'ступень'),\n ('оператор', 'оснастить', 'камера'),\n ('оператор', 'оснастить', 'которую'),\n ('мы', 'получать', 'свет'),\n ('который', 'получать', 'свет'),\n ('мы', 'получать', 'итог'),\n ('мы', 'получать', 'имитация'),\n ('который', 'получать', 'итог'),\n ('который', 'получать', 'имитация'),\n ('многие', 'отмечать', 'разговор'),\n ('многие', 'отмечать', 'день'),\n ('многие', 'отмечать', 'картина'),\n ('проект', 'отмечать', 'разговор'),\n ('проект', 'отмечать', 'день'),\n ('проект', 'отмечать', 'картина'),\n ('я', 'сталкиваться', 'проект'),\n ('я', 'сталкиваться', 'что'),\n ('это', 'вызов', 'результат'),\n ('который', 'вызов', 'результат'),\n ('эммануэль', 'вызов', 'результат'),\n ('это', 'вызов', 'воображение'),\n ('который', 'вызов', 'воображение'),\n ('эммануэль', 'вызов', 'воображение'),\n ('вы', 'решить', 'окончание'),\n ('я', 'перейти', 'работа'),\n ('я', 'перейти', 'гравитация'),\n ('я', 'перейти', 'площадка'),\n ('вы', 'работать', 'э.'),\n ('вы', 'работать', 'кинооператор'),\n ('вы', 'работать', 'роджер'),\n ('-', 'знать', 'что'),\n ('роджер', 'знать', 'что'),\n ('мы', 'проводить', 'тест'),\n ('идея', 'проводить', 'тест'),\n ('мы', 'проводить', 'тест'),\n ('мы', 'проводить', 'нас'),\n ('идея', 'проводить', 'нас'),\n ('мы', 'проводить', 'нас'),\n ('он', 'озвучивать', 'пожелание'),\n ('он', 'озвучивать', 'идея'),\n ('я', 'озвучивать', 'пожелание'),\n ('я', 'озвучивать', 'идея'),\n ('он', 'озвучивать', 'жизнь'),\n ('я', 'озвучивать', 'жизнь'),\n ('мы', 'снять', 'картина'),\n ('я', 'снять', 'картина'),\n ('он', 'снять', 'картина'),\n ('мы', 'снять', 'прошлое'),\n ('мы', 'снять', 'работа'),\n ('я', 'снять', 'прошлое'),\n ('я', 'снять', 'работа'),\n ('он', 'снять', 'прошлое'),\n ('он', 'снять', 'работа'),\n ('он', 'предоставить', 'шанс'),\n ('он', 'предоставить', 'опыт'),\n ('я', 'предоставить', 'шанс'),\n ('я', 'предоставить', 'опыт'),\n ('он', 'предоставить', 'год'),\n ('он', 'предоставить', 'осветитель'),\n ('он', 'предоставить', 'фильм'),\n ('он', 'предоставить', 'результат'),\n ('я', 'предоставить', 'год'),\n ('я', 'предоставить', 'осветитель'),\n ('я', 'предоставить', 'фильм'),\n ('я', 'предоставить', 'результат'),\n ('вы', 'попасть', 'киноиндустрия'),\n ('-', 'работать', 'скважина'),\n ('я', 'работать', 'скважина'),\n ('которая', 'работать', 'скважина'),\n ('-', 'работать', 'компания'),\n ('-', 'работать', 'море'),\n ('я', 'работать', 'компания'),\n ('я', 'работать', 'море'),\n ('которая', 'работать', 'компания'),\n ('которая', 'работать', 'море'),\n ('объявление', 'попасться', 'отпуск'),\n ('объявление', 'попасться', 'глаз'),\n ('объявление', 'попасться', 'киностудия'),\n ('электрик', 'попасться', 'отпуск'),\n ('электрик', 'попасться', 'глаз'),\n ('электрик', 'попасться', 'киностудия'),\n ('я', 'пройти', 'собеседование'),\n ('я', 'пройти', 'работа'),\n ('я', 'пройти', 'бурение'),\n ('я', 'получить', 'прозвище'),\n ('которые', 'получить', 'прозвище'),\n ('я', 'получить', 'ус'),\n ('я', 'получить', 'бигглза'),\n ('я', 'получить', 'год'),\n ('я', 'получить', 'мальчишка'),\n ('которые', 'получить', 'ус'),\n ('которые', 'получить', 'бигглза'),\n ('которые', 'получить', 'год'),\n ('которые', 'получить', 'мальчишка'),\n ('процесс', 'меняться', 'развитие'),\n ('вы', 'думать', 'работа'),\n ('вы', 'думать', 'момент'),\n ('карьера', 'думать', 'работа'),\n ('карьера', 'думать', 'момент'),\n ('возможность', 'вызывать', 'чувство'),\n ('возможность', 'вызывать', 'затемнение'),\n ('это', 'часть', 'что'),\n ('мы', 'часть', 'что'),\n ('я', 'полагать', 'съёмка'),\n ('я', 'полагать', 'компьютер'),\n ('я', 'полагать', 'затемнение'),\n ('этап', 'полагать', 'съёмка'),\n ('этап', 'полагать', 'компьютер'),\n ('этап', 'полагать', 'затемнение'),\n ('воссоздание', 'полагать', 'съёмка'),\n ('воссоздание', 'полагать', 'компьютер'),\n ('воссоздание', 'полагать', 'затемнение'),\n ('взгляд', 'открыть', 'работа'),\n ('я', 'открыть', 'работа'),\n ('это', 'открыть', 'работа'),\n ('это', 'открыть', 'работа'),\n ('которые', 'открыть', 'работа'),\n ('взгляд', 'открыть', 'начало'),\n ('взгляд', 'открыть', 'себя'),\n ('взгляд', 'открыть', 'журнал'),\n ('я', 'открыть', 'начало'),\n ('я', 'открыть', 'себя'),\n ('я', 'открыть', 'журнал'),\n ('это', 'открыть', 'начало'),\n ('это', 'открыть', 'себя'),\n ('это', 'открыть', 'журнал'),\n ('это', 'открыть', 'начало'),\n ('это', 'открыть', 'себя'),\n ('это', 'открыть', 'журнал'),\n ('которые', 'открыть', 'начало'),\n ('которые', 'открыть', 'себя'),\n ('которые', 'открыть', 'журнал'),\n ('я', 'сохранить', 'желание'),\n ('я', 'сохранить', 'себя'),\n ('я', 'сохранить', 'наука'),\n ('я', 'сохранить', 'аудитория'),\n ('гулд', 'наука', 'это'),\n ('гулд', 'наука', 'котором'),\n ('гулд', 'наука', 'сочинениях'),\n ('гулд', 'наука', 'истина'),\n ('гулд', 'наука', 'открытие'),\n ('он', 'написать', 'взгляд'),\n ('он', 'написать', 'эссе'),\n ('он', 'написать', 'знание'),\n ('я', 'написать', 'взгляд'),\n ('я', 'написать', 'эссе'),\n ('я', 'написать', 'знание'),\n ('мнение', 'написать', 'взгляд'),\n ('мнение', 'написать', 'эссе'),\n ('мнение', 'написать', 'знание'),\n ('он', 'написать', 'начало'),\n ('он', 'написать', 'наука'),\n ('он', 'написать', 'способ'),\n ('он', 'написать', 'то'),\n ('он', 'написать', 'область'),\n ('я', 'написать', 'начало'),\n ('я', 'написать', 'наука'),\n ('я', 'написать', 'способ'),\n ('я', 'написать', 'то'),\n ('я', 'написать', 'область'),\n ('мнение', 'написать', 'начало'),\n ('мнение', 'написать', 'наука'),\n ('мнение', 'написать', 'способ'),\n ('мнение', 'написать', 'то'),\n ('мнение', 'написать', 'область'),\n ('понятие', 'характеризовать', 'широта'),\n ('это', 'характеризовать', 'широта'),\n ('я', 'характеризовать', 'широта'),\n ('понятие', 'характеризовать', 'которую'),\n ('понятие', 'характеризовать', 'работа'),\n ('это', 'характеризовать', 'которую'),\n ('это', 'характеризовать', 'работа'),\n ('я', 'характеризовать', 'которую'),\n ('я', 'характеризовать', 'работа'),\n ('я', 'представить', 'анализ'),\n ('я', 'представить', 'тема'),\n ('я', 'представить', 'анализ'),\n ('я', 'представить', 'тема'),\n ('я', 'представить', 'год'),\n ('я', 'представить', 'исследование'),\n ('я', 'представить', 'журнал'),\n ('я', 'представить', 'год'),\n ('я', 'представить', 'которых'),\n ('я', 'представить', 'год'),\n ('я', 'представить', 'исследование'),\n ('я', 'представить', 'журнал'),\n ('я', 'представить', 'год'),\n ('я', 'представить', 'которых'),\n ('тема', 'описывать', 'то'),\n ('тема', 'описывать', 'теория'),\n ('это', 'описывать', 'то'),\n ('это', 'описывать', 'теория'),\n ('наблюдение', 'описывать', 'то'),\n ('наблюдение', 'описывать', 'теория'),\n ('оно', 'описывать', 'то'),\n ('оно', 'описывать', 'теория'),\n ('тема', 'описывать', 'меня'),\n ('тема', 'описывать', 'цитата'),\n ('это', 'описывать', 'меня'),\n ('это', 'описывать', 'цитата'),\n ('наблюдение', 'описывать', 'меня'),\n ('наблюдение', 'описывать', 'цитата'),\n ('оно', 'описывать', 'меня'),\n ('оно', 'описывать', 'цитата'),\n ('контекст', 'том', 'дарвин'),\n ('я', 'том', 'дарвин'),\n ('контекст', 'том', 'статья'),\n ('контекст', 'том', 'особенность'),\n ('я', 'том', 'статья'),\n ('я', 'том', 'особенность'),\n ('создатель', 'понимать', 'себя'),\n ('создатель', 'понимать', 'них'),\n ('создатель', 'понимать', 'призма'),\n ('факт', 'понимать', 'себя'),\n ('факт', 'понимать', 'них'),\n ('факт', 'понимать', 'призма'),\n ('последствие', 'ощутить', 'рынок'),\n ('последствие', 'ощутить', 'первый'),\n ('последствие', 'ощутить', '23'),\n ('последствие', 'ощутить', 'великобритания'),\n ('стерлинг', 'потерять', 'десятую'),\n ('индекс', 'потерять', 'десятую'),\n ('стерлинг', 'потерять', 'день'),\n ('стерлинг', 'потерять', '%'),\n ('индекс', 'потерять', 'день'),\n ('индекс', 'потерять', '%'),\n ('противник', 'уверены', 'решение'),\n ('оппонент', 'уверены', 'решение'),\n ('ситуация', 'измениться', 'конец'),\n ('компания', 'стать', 'бизнес'),\n ('компания', 'стать', 'большинство'),\n ('компания', 'стать', 'страна'),\n ('фунт', 'стабилизироваться', 'уровень'),\n ('индекс', 'стабилизироваться', 'уровень'),\n ('опрос', 'показывать', 'последствие'),\n ('опрос', 'показывать', 'признак'),\n ('многие', 'показывать', 'последствие'),\n ('многие', 'показывать', 'признак'),\n ('аналитик', 'показывать', 'последствие'),\n ('аналитик', 'показывать', 'признак'),\n ('некоторый', 'показывать', 'последствие'),\n ('некоторый', 'показывать', 'признак'),\n ('опрос', 'показывать', 'решение'),\n ('опрос', 'показывать', 'того'),\n ('многие', 'показывать', 'решение'),\n ('многие', 'показывать', 'того'),\n ('аналитик', 'показывать', 'решение'),\n ('аналитик', 'показывать', 'того'),\n ('некоторый', 'показывать', 'решение'),\n ('некоторый', 'показывать', 'того'),\n ('дело', 'том', 'мера'),\n ('правительство', 'том', 'мера'),\n ('дело', 'том', 'прогноз'),\n ('дело', 'том', 'случай'),\n ('правительство', 'том', 'прогноз'),\n ('правительство', 'том', 'случай'),\n ('это', 'произойти', 'мера'),\n ('банк', 'произойти', 'мера'),\n ('это', 'произойти', 'месяц'),\n ('банк', 'произойти', 'месяц'),\n ('многие', 'опасаться', 'шаг'),\n ('он', 'опасаться', 'шаг'),\n ('тереза', 'заверить', 'правительство'),\n ('тереза', 'заверить', 'политика'),\n ('никто', 'ожидать', 'время'),\n ('выход', 'ожидать', 'время'),\n ('дэвид', 'давать', 'процесс'),\n ('британия', 'давать', 'процесс'),\n ('дэвид', 'давать', 'референдум'),\n ('дэвид', 'давать', 'случай'),\n ('британия', 'давать', 'референдум'),\n ('британия', 'давать', 'случай'),\n ('он', 'уйти', 'отставка'),\n ('г', 'заявить', 'год'),\n ('г', 'заявить', '31'),\n ('-', 'заявить', 'год'),\n ('-', 'заявить', '31'),\n ('жа', 'заявить', 'год'),\n ('жа', 'заявить', '31'),\n ('мэй', 'заявить', 'год'),\n ('мэй', 'заявить', '31'),\n ('переговоры', 'заявить', 'год'),\n ('переговоры', 'заявить', '31'),\n ('заседание', 'заявить', 'год'),\n ('заседание', 'заявить', '31'),\n ('выход', 'произойти', 'вероятность'),\n ('выход', 'произойти', 'год'),\n ('тот', 'должный', 'отсутствие'),\n ('кто', 'должный', 'отсутствие'),\n ('брексит', 'должный', 'отсутствие'),\n ('положение', 'казаться', 'перспектива'),\n ('экономист', 'казаться', 'перспектива'),\n ('продажа', 'вырасти', 'июль'),\n ('продажа', 'вырасти', '%'),\n ('продажа', 'вырасти', 'год'),\n ('факт', 'заставлять', 'кризис'),\n ('они', 'заставлять', 'кризис'),\n ('lehman', 'заставлять', 'кризис'),\n ('факт', 'заставлять', 'сумма'),\n ('факт', 'заставлять', 'сентябрь'),\n ('факт', 'заставлять', 'тем'),\n ('они', 'заставлять', 'сумма'),\n ('они', 'заставлять', 'сентябрь'),\n ('они', 'заставлять', 'тем'),\n ('lehman', 'заставлять', 'сумма'),\n ('lehman', 'заставлять', 'сентябрь'),\n ('lehman', 'заставлять', 'тем'),\n ('потребитель', 'понимать', 'новость'),\n ('человек', 'понимать', 'новость'),\n ('он', 'понимать', 'новость'),\n ('потребитель', 'понимать', 'улица'),\n ('потребитель', 'понимать', 'статья'),\n ('потребитель', 'понимать', 'центр'),\n ('человек', 'понимать', 'улица'),\n ('человек', 'понимать', 'статья'),\n ('человек', 'понимать', 'центр'),\n ('он', 'понимать', 'улица'),\n ('он', 'понимать', 'статья'),\n ('он', 'понимать', 'центр'),\n ('большинство', 'видеть', 'ничто'),\n ('большинство', 'видеть', 'выход'),\n ('культура', 'существовать', 'мир'),\n ('культура', 'существовать', '-'),\n ('культура', 'существовать', 'франция'),\n ('сотня', 'существовать', 'мир'),\n ('сотня', 'существовать', '-'),\n ('сотня', 'существовать', 'франция'),\n ('большинство', 'существовать', 'мир'),\n ('большинство', 'существовать', '-'),\n ('большинство', 'существовать', 'франция'),\n ('мы', 'говорить', 'культура'),\n ('мы', 'говорить', 'и'),\n ('мы', 'мочь', 'черта'),\n ('которые', 'мочь', 'черта'),\n ('культура', 'мочь', 'черта'),\n ('многие', 'мочь', 'черта'),\n ('мы', 'мочь', 'культура'),\n ('мы', 'мочь', 'деление'),\n ('мы', 'мочь', 'культура'),\n ('мы', 'мочь', 'африка'),\n ('мы', 'мочь', 'юг'),\n ('мы', 'мочь', 'уровень'),\n ('которые', 'мочь', 'культура'),\n ('которые', 'мочь', 'деление'),\n ('которые', 'мочь', 'культура'),\n ('которые', 'мочь', 'африка'),\n ('которые', 'мочь', 'юг'),\n ('которые', 'мочь', 'уровень'),\n ('культура', 'мочь', 'культура'),\n ('культура', 'мочь', 'деление'),\n ('культура', 'мочь', 'культура'),\n ('культура', 'мочь', 'африка'),\n ('культура', 'мочь', 'юг'),\n ('культура', 'мочь', 'уровень'),\n ('многие', 'мочь', 'культура'),\n ('многие', 'мочь', 'деление'),\n ('многие', 'мочь', 'культура'),\n ('многие', 'мочь', 'африка'),\n ('многие', 'мочь', 'юг'),\n ('многие', 'мочь', 'уровень'),\n ('эксперт', 'проделать', 'работа'),\n ('эксперт', 'проделать', 'культура'),\n ('эксперт', 'проделать', 'эдвард'),\n ('эксперт', 'проделать', 'облегчение'),\n ('эдвард', 'предложить', 'культура'),\n ('эдвард', 'предложить', '-'),\n ('эдвард', 'предложить', 'монохронные'),\n ('классификация', 'предложить', 'культура'),\n ('классификация', 'предложить', '-'),\n ('классификация', 'предложить', 'монохронные'),\n ('эдвард', 'предложить', 'работа'),\n ('эдвард', 'предложить', 'группа'),\n ('классификация', 'предложить', 'работа'),\n ('классификация', 'предложить', 'группа'),\n ('хофстеде', 'использовать', 'термин'),\n ('они', 'использовать', 'термин'),\n ('хофстеде', 'использовать', 'год'),\n ('они', 'использовать', 'год'),\n ('немец', 'переходить', 'дело'),\n ('немец', 'переходить', 'его'),\n ('-', 'переходить', 'дело'),\n ('-', 'переходить', 'его'),\n ('представитель', 'переходить', 'дело'),\n ('представитель', 'переходить', 'его'),\n ('люди', 'переходить', 'дело'),\n ('люди', 'переходить', 'его'),\n ('которые', 'переходить', 'дело'),\n ('которые', 'переходить', 'его'),\n ('немец', 'переходить', 'период'),\n ('немец', 'переходить', 'следующий'),\n ('-', 'переходить', 'период'),\n ('-', 'переходить', 'следующий'),\n ('представитель', 'переходить', 'период'),\n ('представитель', 'переходить', 'следующий'),\n ('люди', 'переходить', 'период'),\n ('люди', 'переходить', 'следующий'),\n ('которые', 'переходить', 'период'),\n ('которые', 'переходить', 'следующий'),\n ('итальянец', 'являться', 'дело'),\n ('итальянец', 'являться', 'спонтанность'),\n ('сосед', 'являться', 'дело'),\n ('сосед', 'являться', 'спонтанность'),\n ('я', 'привести', 'точка'),\n ('я', 'привести', 'меня'),\n ('я', 'привести', 'тип'),\n ('исследование', 'привести', 'точка'),\n ('исследование', 'привести', 'меня'),\n ('исследование', 'привести', 'тип'),\n ('группа', 'привести', 'точка'),\n ('группа', 'привести', 'меня'),\n ('группа', 'привести', 'тип'),\n ('которые', 'привести', 'точка'),\n ('которые', 'привести', 'меня'),\n ('которые', 'привести', 'тип'),\n ('я', 'привести', 'мысль'),\n ('я', 'привести', 'классификация'),\n ('я', 'привести', 'монохронному'),\n ('я', 'привести', 'тип'),\n ('исследование', 'привести', 'мысль'),\n ('исследование', 'привести', 'классификация'),\n ('исследование', 'привести', 'монохронному'),\n ('исследование', 'привести', 'тип'),\n ('группа', 'привести', 'мысль'),\n ('группа', 'привести', 'классификация'),\n ('группа', 'привести', 'монохронному'),\n ('группа', 'привести', 'тип'),\n ('которые', 'привести', 'мысль'),\n ('которые', 'привести', 'классификация'),\n ('которые', 'привести', 'монохронному'),\n ('которые', 'привести', 'тип'),\n ('это', 'житель', 'которым'),\n ('это', 'житель', 'протяжение'),\n ('это', 'житель', 'япония'),\n ('я', 'житель', 'которым'),\n ('я', 'житель', 'протяжение'),\n ('я', 'житель', 'япония'),\n ('группа', 'решительный', 'действие'),\n ('группа', 'решительный', 'позиция'),\n ('они', 'решительный', 'действие'),\n ('они', 'решительный', 'позиция'),\n ('первый', 'решительный', 'действие'),\n ('первый', 'решительный', 'позиция'),\n ('группа', 'решительный', 'представитель'),\n ('группа', 'решительный', 'группа'),\n ('группа', 'решительный', 'это'),\n ('группа', 'решительный', 'темп'),\n ('они', 'решительный', 'представитель'),\n ('они', 'решительный', 'группа'),\n ('они', 'решительный', 'это'),\n ('они', 'решительный', 'темп'),\n ('первый', 'решительный', 'представитель'),\n ('первый', 'решительный', 'группа'),\n ('первый', 'решительный', 'это'),\n ('первый', 'решительный', 'темп'),\n ('я', 'включить', 'категория'),\n ('я', 'включить', 'классификация'),\n ('мартин', 'вопрос', 'деньга'),\n ('мартин', 'вопрос', 'работа'),\n ('мартин', 'вопрос', 'нас'),\n ('мартин', 'вопрос', 'всех'),\n ('будущее', 'вопрос', 'деньга'),\n ('будущее', 'вопрос', 'работа'),\n ('будущее', 'вопрос', 'нас'),\n ('будущее', 'вопрос', 'всех'),\n ('мартин', 'вопрос', 'иметь'),\n ('мартин', 'вопрос', 'вопрос'),\n ('мартин', 'вопрос', 'работа'),\n ('будущее', 'вопрос', 'иметь'),\n ('будущее', 'вопрос', 'вопрос'),\n ('будущее', 'вопрос', 'работа'),\n ('развитие', 'сделать', 'вопрос'),\n ('ситуация', 'следовать', 'другом'),\n ('ситуация', 'следовать', 'предыдущий'),\n ('человек', 'высказывать', 'опасение'),\n ('человек', 'высказывать', 'раз'),\n ('страх', 'брать', 'рабочий'),\n ('страх', 'брать', 'начало'),\n ('автоматизация', 'брать', 'рабочий'),\n ('автоматизация', 'брать', 'начало'),\n ('страх', 'брать', 'уровень'),\n ('страх', 'брать', 'год'),\n ('страх', 'брать', 'восстание'),\n ('автоматизация', 'брать', 'уровень'),\n ('автоматизация', 'брать', 'год'),\n ('автоматизация', 'брать', 'восстание'),\n ('кто', 'слышать', 'вас'),\n ('кто', 'слышать', 'революция'),\n ('кто', 'слышать', 'время'),\n ('кто', 'слышать', 'тема'),\n ('кто', 'слышать', 'котором'),\n ('-', 'слышать', 'вас'),\n ('-', 'слышать', 'революция'),\n ('-', 'слышать', 'время'),\n ('-', 'слышать', 'тема'),\n ('-', 'слышать', 'котором'),\n ('то', 'слышать', 'вас'),\n ('то', 'слышать', 'революция'),\n ('то', 'слышать', 'время'),\n ('то', 'слышать', 'тема'),\n ('то', 'слышать', 'котором'),\n ('учёный', 'слышать', 'вас'),\n ('учёный', 'слышать', 'революция'),\n ('учёный', 'слышать', 'время'),\n ('учёный', 'слышать', 'тема'),\n ('учёный', 'слышать', 'котором'),\n ('сша', 'говориться', 'нем'),\n ('сша', 'говориться', 'грань'),\n ('сша', 'говориться', 'рост'),\n ('производство', 'говориться', 'нем'),\n ('производство', 'говориться', 'грань'),\n ('производство', 'говориться', 'рост'),\n ('человек', 'бить', 'тревога'),\n ('она', 'бить', 'тревога'),\n ('человек', 'бить', 'ложный'),\n ('она', 'бить', 'ложный'),\n ('восприятие', 'сложиться', 'это'),\n ('развитие', 'привести', 'исчезновение'),\n ('развитие', 'привести', 'него'),\n ('сфера', 'привести', 'исчезновение'),\n ('сфера', 'привести', 'него'),\n ('прогресс', 'привести', 'профессия'),\n ('отрасль', 'привести', 'профессия'),\n ('возможность', 'привести', 'профессия'),\n ('которые', 'привести', 'профессия'),\n ('мы', 'привести', 'профессия'),\n ('прогресс', 'привести', 'время'),\n ('прогресс', 'привести', 'возникновение'),\n ('прогресс', 'привести', 'будущее'),\n ('прогресс', 'привести', 'которым'),\n ('прогресс', 'привести', 'человек'),\n ('отрасль', 'привести', 'время'),\n ('отрасль', 'привести', 'возникновение'),\n ('отрасль', 'привести', 'будущее'),\n ('отрасль', 'привести', 'которым'),\n ('отрасль', 'привести', 'человек'),\n ('возможность', 'привести', 'время'),\n ('возможность', 'привести', 'возникновение'),\n ('возможность', 'привести', 'будущее'),\n ('возможность', 'привести', 'которым'),\n ('возможность', 'привести', 'человек'),\n ('которые', 'привести', 'время'),\n ('которые', 'привести', 'возникновение'),\n ('которые', 'привести', 'будущее'),\n ('которые', 'привести', 'которым'),\n ('которые', 'привести', 'человек'),\n ('мы', 'привести', 'время'),\n ('мы', 'привести', 'возникновение'),\n ('мы', 'привести', 'будущее'),\n ('мы', 'привести', 'которым'),\n ('мы', 'привести', 'человек'),\n ('это', 'вселять', 'уверенность'),\n ('профессия', 'оказываться', 'целое'),\n ('профессия', 'оказываться', 'старый'),\n ('перспектива', 'востребовать', 'появление'),\n ('речь', 'идти', 'случай'),\n ('речь', 'идти', 'лошадях'),\n ('часть', 'давать', 'вопрос'),\n ('часть', 'давать', 'будущее'),\n ('часть', 'давать', 'лошадь'),\n ('сравнение', 'выглядеть', 'многих'),\n ('лошади', 'оставить', 'выбор'),\n ('создание', 'оставить', 'выбор'),\n ('человек', 'умный', 'что'),\n ('человек', 'умный', '-'),\n ('человек', 'умный', 'то'),\n ('человек', 'умный', 'участие'),\n ('мы', 'умный', 'что'),\n ('мы', 'умный', '-'),\n ('мы', 'умный', 'то'),\n ('мы', 'умный', 'участие'),\n ('мы', 'умный', 'что'),\n ('мы', 'умный', '-'),\n ('мы', 'умный', 'то'),\n ('мы', 'умный', 'участие'),\n ('человек', 'умный', 'адаптация'),\n ('мы', 'умный', 'адаптация'),\n ('мы', 'умный', 'адаптация'),\n ('чтение', 'улучшать', 'работа'),\n ('статья', 'рассмотрим', 'исследование'),\n ('статья', 'рассмотрим', 'склонность'),\n ('статья', 'рассмотрим', 'человек'),\n ('человек', 'рассмотрим', 'исследование'),\n ('человек', 'рассмотрим', 'склонность'),\n ('человек', 'рассмотрим', 'человек'),\n ('чтение', 'рассмотрим', 'исследование'),\n ('чтение', 'рассмотрим', 'склонность'),\n ('чтение', 'рассмотрим', 'человек'),\n ('статья', 'рассмотрим', '3'),\n ('статья', 'рассмотрим', 'которого'),\n ('статья', 'рассмотрим', 'чувство'),\n ('статья', 'рассмотрим', 'круг'),\n ('статья', 'рассмотрим', 'доказательство'),\n ('человек', 'рассмотрим', '3'),\n ('человек', 'рассмотрим', 'которого'),\n ('человек', 'рассмотрим', 'чувство'),\n ('человек', 'рассмотрим', 'круг'),\n ('человек', 'рассмотрим', 'доказательство'),\n ('чтение', 'рассмотрим', '3'),\n ('чтение', 'рассмотрим', 'которого'),\n ('чтение', 'рассмотрим', 'чувство'),\n ('чтение', 'рассмотрим', 'круг'),\n ('чтение', 'рассмотрим', 'доказательство'),\n ('кто', 'сказать', 'остальных'),\n ('человек', 'сказать', 'остальных'),\n ('кто', 'сказать', 'чувство'),\n ('человек', 'сказать', 'чувство'),\n ('критик', 'найти', 'время'),\n ('критик', 'найти', 'изучение'),\n ('критик', 'найти', 'исследование'),\n ('критик', 'найти', 'выбор'),\n ('они', 'подчеркнуть', 'недоказанность'),\n ('они', 'подчеркнуть', 'воздействие'),\n ('они', 'подчеркнуть', 'попытка'),\n ('они', 'подчеркнуть', 'произведение'),\n ('чтение', 'подчеркнуть', 'недоказанность'),\n ('чтение', 'подчеркнуть', 'воздействие'),\n ('чтение', 'подчеркнуть', 'попытка'),\n ('чтение', 'подчеркнуть', 'произведение'),\n ('которые', 'подчеркнуть', 'недоказанность'),\n ('которые', 'подчеркнуть', 'воздействие'),\n ('которые', 'подчеркнуть', 'попытка'),\n ('которые', 'подчеркнуть', 'произведение'),\n ('человек', 'подчеркнуть', 'недоказанность'),\n ('человек', 'подчеркнуть', 'воздействие'),\n ('человек', 'подчеркнуть', 'попытка'),\n ('человек', 'подчеркнуть', 'произведение'),\n ('они', 'подчеркнуть', 'некоторый'),\n ('они', 'подчеркнуть', 'выявление'),\n ('они', 'подчеркнуть', 'чтение'),\n ('они', 'подчеркнуть', 'тест'),\n ('они', 'подчеркнуть', 'себя'),\n ('они', 'подчеркнуть', 'что'),\n ('чтение', 'подчеркнуть', 'некоторый'),\n ('чтение', 'подчеркнуть', 'выявление'),\n ('чтение', 'подчеркнуть', 'чтение'),\n ('чтение', 'подчеркнуть', 'тест'),\n ('чтение', 'подчеркнуть', 'себя'),\n ('чтение', 'подчеркнуть', 'что'),\n ('которые', 'подчеркнуть', 'некоторый'),\n ('которые', 'подчеркнуть', 'выявление'),\n ('которые', 'подчеркнуть', 'чтение'),\n ('которые', 'подчеркнуть', 'тест'),\n ('которые', 'подчеркнуть', 'себя'),\n ('которые', 'подчеркнуть', 'что'),\n ('человек', 'подчеркнуть', 'некоторый'),\n ('человек', 'подчеркнуть', 'выявление'),\n ('человек', 'подчеркнуть', 'чтение'),\n ('человек', 'подчеркнуть', 'тест'),\n ('человек', 'подчеркнуть', 'себя'),\n ('человек', 'подчеркнуть', 'что'),\n ('невролог', 'стать', 'попытка'),\n ('невролог', 'стать', 'преимущество'),\n ('невролог', 'стать', 'год'),\n ('снимок', 'стать', 'связь'),\n ('оттого', 'стать', 'связь'),\n ('что', 'стать', 'связь'),\n ('чтение', 'стать', 'связь'),\n ('снимок', 'стать', '2014'),\n ('оттого', 'стать', '2014'),\n ('что', 'стать', '2014'),\n ('чтение', 'стать', '2014'),\n ('это', 'значить', 'состояние'),\n ('это', 'значить', 'эффект'),\n ('активность', 'значить', 'состояние'),\n ('активность', 'значить', 'эффект'),\n ('мы', 'значить', 'состояние'),\n ('мы', 'значить', 'эффект'),\n ('изменение', 'значить', 'состояние'),\n ('изменение', 'значить', 'эффект'),\n ('деятельность', 'значить', 'состояние'),\n ('деятельность', 'значить', 'эффект'),\n ('это', 'значить', 'заголовок'),\n ('это', 'значить', 'день'),\n ('это', 'значить', 'мозг'),\n ('это', 'значить', 'разговор'),\n ('активность', 'значить', 'заголовок'),\n ('активность', 'значить', 'день'),\n ('активность', 'значить', 'мозг'),\n ('активность', 'значить', 'разговор'),\n ('мы', 'значить', 'заголовок'),\n ('мы', 'значить', 'день'),\n ('мы', 'значить', 'мозг'),\n ('мы', 'значить', 'разговор'),\n ('изменение', 'значить', 'заголовок'),\n ('изменение', 'значить', 'день'),\n ('изменение', 'значить', 'мозг'),\n ('изменение', 'значить', 'разговор'),\n ('деятельность', 'значить', 'заголовок'),\n ('деятельность', 'значить', 'день'),\n ('деятельность', 'значить', 'мозг'),\n ('деятельность', 'значить', 'разговор'),\n ('я', 'должный', 'поклонник'),\n ('я', 'должный', 'идея'),\n ('это', 'понятный', 'мозг'),\n ('чтение', 'понятный', 'мозг'),\n ('это', 'понятный', 'это'),\n ('это', 'понятный', 'принятие'),\n ('это', 'понятный', 'неопределённость'),\n ('чтение', 'понятный', 'это'),\n ('чтение', 'понятный', 'принятие'),\n ('чтение', 'понятный', 'неопределённость'),\n ('много', 'оставаться', 'притязание'),\n ('результат', 'оставаться', 'притязание'),\n ('много', 'оставаться', 'область'),\n ('много', 'оставаться', 'неизведанный'),\n ('результат', 'оставаться', 'область'),\n ('результат', 'оставаться', 'неизведанный'),\n ('исследователь', 'дать', 'толкование'),\n ('которое', 'дать', 'толкование'),\n ('исследователь', 'дать', 'случай'),\n ('исследователь', 'дать', 'осведомлённость'),\n ('которое', 'дать', 'случай'),\n ('которое', 'дать', 'осведомлённость'),\n ('это', 'вызывать', 'интерес'),\n ('это', 'вызывать', 'активность'),\n ('студент', 'вызывать', 'интерес'),\n ('студент', 'вызывать', 'активность'),\n ('толкование', 'вызывать', 'интерес'),\n ('толкование', 'вызывать', 'активность'),\n ('это', 'вызывать', 'учёт'),\n ('студент', 'вызывать', 'учёт'),\n ('толкование', 'вызывать', 'учёт'),\n ('учёный', 'знать', 'эквивалент'),\n ('-', 'знать', 'эквивалент'),\n ('исследователь', 'знать', 'эквивалент'),\n ('измерение', 'знать', 'эквивалент'),\n ('она', 'знать', 'ничто'),\n ('она', 'знать', 'здоровье'),\n ('она', 'знать', 'внешность'),\n ('она', 'знать', 'трудность'),\n ('доказательство', 'стоить', 'смысл'),\n ('преимущество', 'стоить', 'смысл'),\n ('существуют-', 'стоить', 'смысл'),\n ('причина', 'стоить', 'смысл'),\n ('доказательство', 'стоить', 'всему'),\n ('доказательство', 'стоить', 'земля'),\n ('преимущество', 'стоить', 'всему'),\n ('преимущество', 'стоить', 'земля'),\n ('существуют-', 'стоить', 'всему'),\n ('существуют-', 'стоить', 'земля'),\n ('причина', 'стоить', 'всему'),\n ('причина', 'стоить', 'земля'),\n ('результат', 'следовать', 'итог'),\n ('результат', 'следовать', 'доказательство'),\n ('студент', 'следовать', 'итог'),\n ('студент', 'следовать', 'доказательство'),\n ('идея', 'следовать', 'итог'),\n ('идея', 'следовать', 'доказательство'),\n ('результат', 'следовать', 'жизнь'),\n ('результат', 'следовать', 'день'),\n ('результат', 'следовать', 'изобретение'),\n ('результат', 'следовать', 'история'),\n ('студент', 'следовать', 'жизнь'),\n ('студент', 'следовать', 'день'),\n ('студент', 'следовать', 'изобретение'),\n ('студент', 'следовать', 'история'),\n ('идея', 'следовать', 'жизнь'),\n ('идея', 'следовать', 'день'),\n ('идея', 'следовать', 'изобретение'),\n ('идея', 'следовать', 'история'),\n ('грабитель', 'отслеживать', 'сеть'),\n ('грабитель', 'отслеживать', 'находиться'),\n ('грабитель', 'отслеживать', 'которую'),\n ('вы', 'отслеживать', 'сеть'),\n ('вы', 'отслеживать', 'находиться'),\n ('вы', 'отслеживать', 'которую'),\n ('пределу', 'отслеживать', 'сеть'),\n ('пределу', 'отслеживать', 'находиться'),\n ('пределу', 'отслеживать', 'которую'),\n ('мы', 'отслеживать', 'сеть'),\n ('мы', 'отслеживать', 'находиться'),\n ('мы', 'отслеживать', 'которую'),\n ('грабитель', 'отслеживать', 'себя'),\n ('грабитель', 'отслеживать', 'сеть'),\n ('вы', 'отслеживать', 'себя'),\n ('вы', 'отслеживать', 'сеть'),\n ('пределу', 'отслеживать', 'себя'),\n ('пределу', 'отслеживать', 'сеть'),\n ('мы', 'отслеживать', 'себя'),\n ('мы', 'отслеживать', 'сеть'),\n ('мы', 'подвергать', 'желание'),\n ('мы', 'подвергать', 'что'),\n ('мы', 'подвергать', 'безопасность'),\n ('мы', 'подвергать', 'том'),\n ('%', 'заявлять', 'сеть'),\n ('преступник', 'заявлять', 'сеть'),\n ('хозяин', 'заявлять', 'сеть'),\n ('дом', 'заявлять', 'сеть'),\n ('%', 'заявлять', 'результат'),\n ('%', 'заявлять', 'facebook'),\n ('преступник', 'заявлять', 'результат'),\n ('преступник', 'заявлять', 'facebook'),\n ('хозяин', 'заявлять', 'результат'),\n ('хозяин', 'заявлять', 'facebook'),\n ('дом', 'заявлять', 'результат'),\n ('дом', 'заявлять', 'facebook'),\n ('половина', 'утверждать', 'статус'),\n ('половина', 'утверждать', 'местоположение'),\n ('которые', 'утверждать', 'статус'),\n ('которые', 'утверждать', 'местоположение'),\n ('половина', 'утверждать', 'услуга'),\n ('которые', 'утверждать', 'услуга'),\n ('вы', 'ошибка', 'выходной'),\n ('вы', 'ошибка', 'фотография'),\n ('вы', 'ошибка', 'ключ'),\n ('которые', 'ошибка', 'выходной'),\n ('которые', 'ошибка', 'фотография'),\n ('которые', 'ошибка', 'ключ'),\n ('взлом', 'занимать', 'минута'),\n ('которое', 'занимать', 'минута'),\n ('взлом', 'занимать', 'результат'),\n ('взлом', 'занимать', 'магазин'),\n ('которое', 'занимать', 'результат'),\n ('которое', 'занимать', 'магазин'),\n ('джонатан', 'заявить', 'доступ'),\n ('джонатан', 'заявить', 'информация'),\n ('исследование', 'заявить', 'доступ'),\n ('исследование', 'заявить', 'информация'),\n ('4', 'разбить', 'данные'),\n ('4', 'разбить', 'иллюзия'),\n ('4', 'разбить', 'его'),\n ('4', 'разбить', 'ошибка'),\n ('4', 'разбить', 'которые'),\n ('грабитель', 'разбить', 'данные'),\n ('грабитель', 'разбить', 'иллюзия'),\n ('грабитель', 'разбить', 'его'),\n ('грабитель', 'разбить', 'ошибка'),\n ('грабитель', 'разбить', 'которые'),\n ('отчёт', 'разбить', 'данные'),\n ('отчёт', 'разбить', 'иллюзия'),\n ('отчёт', 'разбить', 'его'),\n ('отчёт', 'разбить', 'ошибка'),\n ('отчёт', 'разбить', 'которые'),\n ('домовладелец', 'разбить', 'данные'),\n ('домовладелец', 'разбить', 'иллюзия'),\n ...]"
     },
     "execution_count": 118,
     "metadata": {},
     "output_type": "execute_result"
    }
   ],
   "source": [
    "entities"
   ],
   "metadata": {
    "collapsed": false,
    "pycharm": {
     "name": "#%%\n"
    }
   }
  },
  {
   "cell_type": "code",
   "execution_count": null,
   "outputs": [],
   "source": [],
   "metadata": {
    "collapsed": false,
    "pycharm": {
     "name": "#%%\n"
    }
   }
  }
 ],
 "metadata": {
  "kernelspec": {
   "display_name": "Python 3",
   "language": "python",
   "name": "python3"
  },
  "language_info": {
   "codemirror_mode": {
    "name": "ipython",
    "version": 2
   },
   "file_extension": ".py",
   "mimetype": "text/x-python",
   "name": "python",
   "nbconvert_exporter": "python",
   "pygments_lexer": "ipython2",
   "version": "2.7.6"
  }
 },
 "nbformat": 4,
 "nbformat_minor": 0
}