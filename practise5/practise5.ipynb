{
 "cells": [
  {
   "cell_type": "code",
   "execution_count": 242,
   "outputs": [],
   "source": [
    "import pandas as pd\n",
    "import re\n",
    "import string\n",
    "import nltk\n",
    "import numpy as np\n",
    "from nltk.corpus import stopwords\n",
    "from nltk import sent_tokenize\n",
    "from pywsd.utils import lemmatize_sentence\n",
    "import matplotlib.pyplot as plt\n",
    "import matplotlib.colors as mcolors\n",
    "import random\n",
    "from sklearn.decomposition import PCA"
   ],
   "metadata": {
    "collapsed": false,
    "pycharm": {
     "name": "#%%\n"
    }
   }
  },
  {
   "cell_type": "code",
   "execution_count": 2,
   "outputs": [],
   "source": [
    "df = pd.read_csv('Restaurant reviews.csv')\n",
    "reviews = df['Review']"
   ],
   "metadata": {
    "collapsed": false,
    "pycharm": {
     "name": "#%%\n"
    }
   }
  },
  {
   "cell_type": "code",
   "execution_count": 3,
   "outputs": [],
   "source": [
    "\n",
    "def clean_text(text):\n",
    "    text = re.sub(r'http\\S+', '', text)\n",
    "    text = re.sub(r'\\d+', '', text)\n",
    "    text = text.translate(str.maketrans('', '', string.punctuation + '’'))\n",
    "    tokens = nltk.word_tokenize(text)\n",
    "    stop_words = set(stopwords.words('english'))\n",
    "    cleaned_tokens = [token.lower() for token in tokens if token.lower() not in stop_words]\n",
    "    cleaned_text = ' '.join(cleaned_tokens)\n",
    "    return cleaned_text"
   ],
   "metadata": {
    "collapsed": false,
    "pycharm": {
     "name": "#%%\n"
    }
   }
  },
  {
   "cell_type": "code",
   "execution_count": 4,
   "outputs": [],
   "source": [
    "reviews.dropna(inplace=True)"
   ],
   "metadata": {
    "collapsed": false,
    "pycharm": {
     "name": "#%%\n"
    }
   }
  },
  {
   "cell_type": "code",
   "execution_count": 5,
   "outputs": [],
   "source": [
    "reviews = reviews.apply(lambda x: sent_tokenize(x))"
   ],
   "metadata": {
    "collapsed": false,
    "pycharm": {
     "name": "#%%\n"
    }
   }
  },
  {
   "cell_type": "code",
   "execution_count": 6,
   "outputs": [],
   "source": [
    "reviews = reviews.apply(lambda x: [lemmatize_sentence(clean_text(s)) for s in x])"
   ],
   "metadata": {
    "collapsed": false,
    "pycharm": {
     "name": "#%%\n"
    }
   }
  },
  {
   "cell_type": "code",
   "execution_count": 9,
   "outputs": [],
   "source": [
    "from gensim.models import Word2Vec\n",
    "\n",
    "reviews_ = []\n",
    "for i in reviews.values:\n",
    "    reviews_.append([w for s in i for w in s])\n"
   ],
   "metadata": {
    "collapsed": false,
    "pycharm": {
     "name": "#%%\n"
    }
   }
  },
  {
   "cell_type": "code",
   "execution_count": 10,
   "outputs": [],
   "source": [
    "word2vec = Word2Vec(workers=8)"
   ],
   "metadata": {
    "collapsed": false,
    "pycharm": {
     "name": "#%%\n"
    }
   }
  },
  {
   "cell_type": "code",
   "execution_count": 11,
   "outputs": [],
   "source": [
    "models = []\n",
    "for sg in [0, 1]:\n",
    "    for epochs in [5, 10, 15]:\n",
    "        for vector_size in [20, 30, 40]:\n",
    "            for window in [1, 2, 3]:\n",
    "                for min_count in [2, 3, 4]:\n",
    "                    models.append(\n",
    "                        Word2Vec(sentences=reviews_, epochs=epochs, vector_size=vector_size, window=window,\n",
    "                                 min_count=min_count, sg=sg)\n",
    "                    )\n"
   ],
   "metadata": {
    "collapsed": false,
    "pycharm": {
     "name": "#%%\n"
    }
   }
  },
  {
   "cell_type": "code",
   "execution_count": null,
   "outputs": [],
   "source": [
    "# from collections import Counter\n",
    "# Counter([w for r in reviews_ for w in r]).most_common(5)\n"
   ],
   "metadata": {
    "collapsed": false,
    "pycharm": {
     "name": "#%%\n"
    }
   }
  },
  {
   "cell_type": "code",
   "execution_count": 137,
   "outputs": [
    {
     "name": "stdout",
     "output_type": "stream",
     "text": [
      "('amazingthe', 0.7029135823249817)\n",
      "('comfortable', 0.7183482646942139)\n",
      "('comfortable', 0.7528727650642395)\n",
      "('comfortable', 0.7067489624023438)\n"
     ]
    }
   ],
   "source": [
    "# for m in models:\n",
    "#     if m.wv.most_similar('good', 5)[0][1]>0.7:\n",
    "#         print(m.wv.most_similar('good', 5)[0])"
   ],
   "metadata": {
    "collapsed": false,
    "pycharm": {
     "name": "#%%\n"
    }
   }
  },
  {
   "cell_type": "code",
   "execution_count": 24,
   "outputs": [
    {
     "name": "stdout",
     "output_type": "stream",
     "text": [
      "1 15 40 3 4\n"
     ]
    }
   ],
   "source": [
    "idx, max = 0, -1\n",
    "for idx_, model in enumerate(models):\n",
    "    similarities = model.wv.evaluate_word_pairs('wordsim353.tsv')\n",
    "\n",
    "    if similarities[0].statistic > max:\n",
    "        idx = idx_\n",
    "        max = similarities[0].statistic\n",
    "\n",
    "print(models[idx].sg, models[idx].epochs, models[idx].vector_size, models[idx].window, models[idx].min_count)"
   ],
   "metadata": {
    "collapsed": false,
    "pycharm": {
     "name": "#%%\n"
    }
   }
  },
  {
   "cell_type": "code",
   "execution_count": 77,
   "outputs": [],
   "source": [
    "vecs = []\n",
    "similar_w = []\n",
    "for w in models[idx].wv.most_similar('service', topn=10):\n",
    "    similar_w.append(w)"
   ],
   "metadata": {
    "collapsed": false,
    "pycharm": {
     "name": "#%%\n"
    }
   }
  },
  {
   "cell_type": "code",
   "execution_count": 163,
   "outputs": [
    {
     "data": {
      "text/plain": "[('sevice', 0.8445521593093872),\n ('steward', 0.8244337439537048),\n ('servicing', 0.8075377345085144),\n ('hospitality', 0.8019111752510071),\n ('coordination', 0.8006536960601807),\n ('lousy', 0.7900466322898865),\n ('respectful', 0.7899540066719055),\n ('hasubul', 0.788968563079834),\n ('🌟🌟🌟', 0.7844764590263367),\n ('ashok', 0.7839418053627014)]"
     },
     "execution_count": 163,
     "metadata": {},
     "output_type": "execute_result"
    }
   ],
   "source": [
    "similar_w"
   ],
   "metadata": {
    "collapsed": false,
    "pycharm": {
     "name": "#%%\n"
    }
   }
  },
  {
   "cell_type": "code",
   "execution_count": 164,
   "outputs": [],
   "source": [
    "word_vectors = [models[idx].wv[w[0]] for w in similar_w]"
   ],
   "metadata": {
    "collapsed": false,
    "pycharm": {
     "name": "#%%\n"
    }
   }
  },
  {
   "cell_type": "code",
   "execution_count": 191,
   "outputs": [],
   "source": [
    "word_vectors.append(models[idx].wv['service'])"
   ],
   "metadata": {
    "collapsed": false,
    "pycharm": {
     "name": "#%%\n"
    }
   }
  },
  {
   "cell_type": "code",
   "execution_count": 192,
   "outputs": [],
   "source": [
    "\n",
    "\n",
    "pca = PCA(n_components=2)\n",
    "pca_result = pca.fit_transform(word_vectors)"
   ],
   "metadata": {
    "collapsed": false,
    "pycharm": {
     "name": "#%%\n"
    }
   }
  },
  {
   "cell_type": "code",
   "execution_count": 198,
   "outputs": [],
   "source": [
    "similar_w_ = [w[0] for w in similar_w]"
   ],
   "metadata": {
    "collapsed": false,
    "pycharm": {
     "name": "#%%\n"
    }
   }
  },
  {
   "cell_type": "code",
   "execution_count": 200,
   "outputs": [],
   "source": [
    "similar_w_.append('service')"
   ],
   "metadata": {
    "collapsed": false,
    "pycharm": {
     "name": "#%%\n"
    }
   }
  },
  {
   "cell_type": "code",
   "execution_count": 240,
   "outputs": [
    {
     "data": {
      "text/plain": "<Figure size 640x480 with 1 Axes>",
      "image/png": "[encoded data removed]"
     },
     "metadata": {},
     "output_type": "display_data"
    }
   ],
   "source": [
    "fig, ax = plt.subplots()\n",
    "colors = mcolors.CSS4_COLORS\n",
    "colors_ = random.choices(list(mcolors.CSS4_COLORS.keys()), k=11)\n",
    "\n",
    "for i, coord in enumerate(pca_result):\n",
    "    ax.scatter(coord[0], coord[1], c=colors_[i], label= similar_w_[i])\n",
    "ax.legend()\n",
    "plt.show()"
   ],
   "metadata": {
    "collapsed": false,
    "pycharm": {
     "name": "#%%\n"
    }
   }
  },
  {
   "cell_type": "code",
   "execution_count": 241,
   "outputs": [],
   "source": [
    "vecs2 = []\n",
    "similar_w2 = []\n",
    "for w in models[idx].wv.most_similar('place', topn=10):\n",
    "    similar_w2.append(w)"
   ],
   "metadata": {
    "collapsed": false,
    "pycharm": {
     "name": "#%%\n"
    }
   }
  },
  {
   "cell_type": "code",
   "execution_count": 243,
   "outputs": [],
   "source": [
    "word_vectors2 = [models[idx].wv[w[0]] for w in similar_w2]\n",
    "word_vectors2.append(models[idx].wv['place'])"
   ],
   "metadata": {
    "collapsed": false,
    "pycharm": {
     "name": "#%%\n"
    }
   }
  },
  {
   "cell_type": "code",
   "execution_count": 244,
   "outputs": [],
   "source": [
    "pca_result2 = pca.fit_transform(word_vectors2)"
   ],
   "metadata": {
    "collapsed": false,
    "pycharm": {
     "name": "#%%\n"
    }
   }
  },
  {
   "cell_type": "code",
   "execution_count": 245,
   "outputs": [],
   "source": [
    "similar_w_2 = [w[0] for w in similar_w2]\n",
    "similar_w_2.append('place')"
   ],
   "metadata": {
    "collapsed": false,
    "pycharm": {
     "name": "#%%\n"
    }
   }
  },
  {
   "cell_type": "code",
   "execution_count": 246,
   "outputs": [
    {
     "data": {
      "text/plain": "<Figure size 640x480 with 1 Axes>",
      "image/png": "[encoded data removed]"
     },
     "metadata": {},
     "output_type": "display_data"
    }
   ],
   "source": [
    "fig, ax = plt.subplots()\n",
    "for i, coord in enumerate(pca_result2):\n",
    "    ax.scatter(coord[0], coord[1], c=colors_[i], label= similar_w_2[i])\n",
    "ax.legend()\n",
    "plt.show()"
   ],
   "metadata": {
    "collapsed": false,
    "pycharm": {
     "name": "#%%\n"
    }
   }
  },
  {
   "cell_type": "markdown",
   "source": [
    "CBOW и SKIPgram\n",
    "\n",
    "Skip-Gram хорошо работает с небольшими наборами данных и может лучше представлять менее частые слова.\n",
    "CBOW обучается быстрее, чем Skip-Gram, и может лучше представлять более частые слова.\n",
    "\n",
    "Задачи семантичского поиска"
   ],
   "metadata": {
    "collapsed": false,
    "pycharm": {
     "name": "#%% md\n"
    }
   }
  }
 ],
 "metadata": {
  "kernelspec": {
   "display_name": "Python 3",
   "language": "python",
   "name": "python3"
  },
  "language_info": {
   "codemirror_mode": {
    "name": "ipython",
    "version": 2
   },
   "file_extension": ".py",
   "mimetype": "text/x-python",
   "name": "python",
   "nbconvert_exporter": "python",
   "pygments_lexer": "ipython2",
   "version": "2.7.6"
  }
 },
 "nbformat": 4,
 "nbformat_minor": 0
}